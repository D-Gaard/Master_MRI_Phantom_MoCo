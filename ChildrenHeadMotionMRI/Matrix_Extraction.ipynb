{
 "cells": [
  {
   "cell_type": "markdown",
   "metadata": {},
   "source": [
    "# Calculate and save the matrices in RAS space"
   ]
  },
  {
   "cell_type": "code",
   "execution_count": null,
   "metadata": {},
   "outputs": [],
   "source": [
    "import matplotlib.pyplot as plt\n",
    "from mpl_toolkits.mplot3d import Axes3D\n",
    "from numpy.linalg import svd\n",
    "import numpy as np\n",
    "import math\n",
    "from scipy import interpolate\n",
    "import random\n",
    "from numpy.linalg import inv\n",
    "import scipy.io\n",
    "import pydicom\n",
    "import cmath\n",
    "from scipy.spatial.transform import Rotation as R\n",
    "import os\n",
    "import datetime\n",
    "import csv\n",
    "import datetime"
   ]
  },
  {
   "cell_type": "code",
   "execution_count": null,
   "metadata": {},
   "outputs": [],
   "source": [
    "from functions import *"
   ]
  },
  {
   "cell_type": "code",
   "execution_count": null,
   "metadata": {},
   "outputs": [],
   "source": [
    "# define GA and no_GA subjects:\n",
    "GA = ['2017-03-31_ZA', '2017-04-07_SK', '2017-06-02_MN', '2017-06-16_SJAS', '2017-06-23_AKDW', '2017-07-07_WHO', '2017-11-24_JA', '2018-05-25_MT', '2019-01-11_MS_0607175918', '2015-04-14_EB', '2015-05-19_EV', '2016-09-30_AMRH', '2016-10-21_JNT', '2016-12-09_MN', '2017-02-03_PL', '2017-03-10_SJAS', '2017-03-17_MTD', '2017-03-28_NPN']\n",
    "no_GA = ['2015-09-01_TSS', '2015-10-06_RMI', '2015-10-09_SK', '2015-12-01_FCA', '2015-12-01_VTB', '2015-12-15_LR', '2015-12-15_PN', '2015-12-22_SRo', '2016-02-26_MR', '2016-03-22_NLL', '2016-04-05_ESS', '2016-04-05_JMPD', '2016-04-26_JJ', '2016-05-20_NLL', '2016-05-31_BNP', '2016-06-21_AHA', '2016-06-28_MS', '2016-06-28_NLVS', '2016-08-05_EJ', '2016-09-30_VJ', '2016-10-04_JMPD', '2016-10-11_JJ', '2016-12-13_OKR', '2017-01-06_NM', '2017-01-17_JVJ', '2017-02-14_SLA', '2017-03-14_ESS', '2017-06-06_MS', '2017-06-06_RL', '2017-06-13_LR', '2017-06-20_OH', '2017-09-05_NSH', '2017-09-05_SE2', '2017-09-12_ICV', '2017-09-26_MS', '2017-10-03_RA', '2017-10-10_MA', '2018-01-02_ACK', '2018-01-09_NSN', '2018-03-16_EA', '2018-03-16_TP', '2018-04-17_MWA', '2018-04-24_LR']\n",
    "subjs = np.append(no_GA, GA)\n",
    "print(subjs)\n",
    "\n",
    "# define output folder:\n",
    "folder = '/pc_disk1/moco/StudentProjects/MSc/Hannah/FrontRadio_Eichhorn_2021/analysis/'"
   ]
  },
  {
   "cell_type": "code",
   "execution_count": null,
   "metadata": {},
   "outputs": [],
   "source": [
    "print(len(subjs))"
   ]
  },
  {
   "cell_type": "code",
   "execution_count": null,
   "metadata": {},
   "outputs": [],
   "source": [
    "# define scan times for each sequence:\n",
    "sequ = ['Head_t1_mprage_sag_p2_iso', 'Head_t1_tirm_tra_darkfluid_p2', 'Head_t2_tirm_tra_darkfluid_p2', 'Head_t2_tirm_cor_darkfluid_4mm', 'Head_t2_blade_tra_5mm_GD', 'Head_t1_mprage_sag_p2_iso_GD']\n",
    "sequ_abbr = ['t1_mprage_sag', 't1_tirm_tra', 't2_tirm_tra', 't2_tirm_cor', 't2_blade_tra_5mm_GD', 't1_mprage_sag*GD']\n",
    "scantimes = [266, 174, 272, 164, 122, 266]   # in seconds from TCL_mMR_documentation_BUF.xlsx"
   ]
  },
  {
   "cell_type": "code",
   "execution_count": null,
   "metadata": {
    "scrolled": true
   },
   "outputs": [],
   "source": [
    "# get scan start for each sequ type and subject:\n",
    "save = ['Subj_ID, sequence, start_time, end_time']\n",
    "for sub in subjs:\n",
    "    for seq, sct in zip(sequ_abbr, scantimes):\n",
    "        path = '/mnt/mocodata1/BUF/DataMMR/'+sub+'/PETMR*/*'+seq+'*/*'\n",
    "        find = glob.glob(path)\n",
    "        if seq == 't1_mprage_sag':\n",
    "            if len(find)>1:\n",
    "                find = [s for s in find if \"GD\" not in s]\n",
    "        if len(find) > 0:\n",
    "            file = find[0]\n",
    "            start_time = getAcqTimeFromDICOM(file)\n",
    "            # divide sct in minutes and seconds:\n",
    "            mins = sct//60\n",
    "            scs = sct%60\n",
    "            start_tim = datetime.datetime.strptime(start_time, '%H%M%S.%f')\n",
    "            timeToAdd = datetime.timedelta(minutes=mins, seconds=scs)\n",
    "            end_time = (start_tim+ timeToAdd).strftime('%H%M%S.%f')\n",
    "            save.append(sub+', '+seq+', '+str(start_time)+', '+str(end_time))\n",
    "save = np.array(save)\n",
    "np.savetxt(folder+'Scan_Times.txt', save, fmt=\"%s\")"
   ]
  },
  {
   "cell_type": "code",
   "execution_count": null,
   "metadata": {},
   "outputs": [],
   "source": [
    "# load scan start for each sequence:\n",
    "Scan_Times = np.loadtxt(folder+'Scan_Times.txt', dtype=str, delimiter=', ', skiprows=1)"
   ]
  },
  {
   "cell_type": "code",
   "execution_count": null,
   "metadata": {},
   "outputs": [],
   "source": [
    "  "
   ]
  },
  {
   "cell_type": "markdown",
   "metadata": {},
   "source": [
    "Calculate matrices with reference position in middle of MPRAGE:"
   ]
  },
  {
   "cell_type": "code",
   "execution_count": null,
   "metadata": {
    "scrolled": true
   },
   "outputs": [],
   "source": [
    "# file with dicom info (id,age,scan start)\n",
    "file = folder+\"/dicomData.csv\"\n",
    "path = \"/mnt/mocodata1/BUF/DataTCL/\"\n",
    "A_dcs2ecs=np.array([[-1, 0, 0, 0], [0, 1, 0, 0], [0, 0, -1, 0], [0, 0, 0, 1]])\n",
    "\n",
    "for d in no_GA:\n",
    "    aln, tim, poa, log  = getFileNames(path+d)\n",
    "    print(aln,tim,poa,log)\n",
    "    A_tcs2dcs = readtcs2dcs(aln)\n",
    "    A_tcs2ecs = A_dcs2ecs@A_tcs2dcs\n",
    "    time = getTime(file,d)\n",
    "    print(time,d)\n",
    "    # add half of MPRAGE acquisition time (266s)\n",
    "    timeToAdd = datetime.timedelta(minutes=2, seconds=13)\n",
    "    time_ = datetime.datetime.strptime(time, '%H%M%S.%f')\n",
    "    time = (time_+ timeToAdd).strftime('%H%M%S.%f')\n",
    "    refFrame = 0\n",
    "    # get the ref frame (start of scan time) either from tim or log file\n",
    "    if tim!=\"\":\n",
    "        print(\"IN TIM\")\n",
    "        timeDifference = getTimeDifference(log)\n",
    "        print(timeDifference)\n",
    "        timeDiffList = timeDifference.split(\":\")\n",
    "        a = timeDiffList[-1].split(\".\")\n",
    "        # convert to python timedate\n",
    "        timeToAdd = datetime.timedelta(minutes=int(timeDiffList[1]), seconds=int(a[0]), milliseconds=int(a[1]))\n",
    "        refFrame = findFrameNumber(tim, time, timeToAdd)\n",
    "        print(refFrame)\n",
    "    elif log!=\"\":\n",
    "        print(\"IN LOG\")\n",
    "        print(time)\n",
    "        refFrame = findFrameNumberInLog(log, time)\n",
    "    else:\n",
    "        break\n",
    "    if not os.path.exists(folder+\"No GA/matricesREF \"+d):\n",
    "        os.mkdir(folder+\"No GA/matricesREF \"+d)\n",
    "    refTr = transform(poa, A_tcs2ecs, refFrame, folder+\"No GA/matricesREF \"+d)\n",
    "    print(time,refFrame,refTr)"
   ]
  },
  {
   "cell_type": "code",
   "execution_count": null,
   "metadata": {},
   "outputs": [],
   "source": [
    "# file with dicom info (id,age,scan start)\n",
    "file = folder+\"dicomData.csv\"\n",
    "path = \"/mnt/mocodata1/BUF/DataTCL/\"\n",
    "A_dcs2ecs=np.array([[-1, 0, 0, 0], [0, 1, 0, 0], [0, 0, -1, 0], [0, 0, 0, 1]])\n",
    "\n",
    "for d in GA:\n",
    "    aln, tim, poa, log  = getFileNames(path+d)\n",
    "    print(aln,tim,poa,log)\n",
    "    A_tcs2dcs = readtcs2dcs(aln)\n",
    "    A_tcs2ecs = A_dcs2ecs@A_tcs2dcs\n",
    "    #time = getAcqTimeFromDICOM(dcm)\n",
    "    time = getTime(file,d)\n",
    "    print(time,d)\n",
    "    # add half of MPRAGE acquisition time (266s)\n",
    "    timeToAdd = datetime.timedelta(minutes=2, seconds=13)\n",
    "    time_ = datetime.datetime.strptime(time, '%H%M%S.%f')\n",
    "    time = (time_+ timeToAdd).strftime('%H%M%S.%f')\n",
    "    refFrame = 0\n",
    "    # get the ref frame (start of scan time) either from tim or log file\n",
    "    if tim!=\"\":\n",
    "        print(\"IN TIM\")\n",
    "        timeDifference = getTimeDifference(log)\n",
    "        print(timeDifference)\n",
    "        timeDiffList = timeDifference.split(\":\")\n",
    "        a = timeDiffList[-1].split(\".\")\n",
    "        # convert to python timedate\n",
    "        timeToAdd = datetime.timedelta(minutes=int(timeDiffList[1]), seconds=int(a[0]), milliseconds=int(a[1]))\n",
    "        refFrame = findFrameNumber(tim, time, timeToAdd)\n",
    "        print(refFrame)\n",
    "    elif log!=\"\":\n",
    "        print(\"IN LOG\")\n",
    "        print(time)\n",
    "        refFrame = findFrameNumberInLog(log, time)\n",
    "    else:\n",
    "        break\n",
    "    if not os.path.exists(folder+\"GA/matricesREF \"+d):\n",
    "        os.mkdir(folder+\"GA/matricesREF \"+d)\n",
    "    refTr = transform(poa, A_tcs2ecs, refFrame, folder+\"GA/matricesREF \"+d)\n",
    "    print(time,refFrame,refTr)"
   ]
  },
  {
   "cell_type": "code",
   "execution_count": null,
   "metadata": {},
   "outputs": [],
   "source": []
  },
  {
   "cell_type": "markdown",
   "metadata": {},
   "source": [
    "# Analysis for excluded children:"
   ]
  },
  {
   "cell_type": "code",
   "execution_count": null,
   "metadata": {},
   "outputs": [],
   "source": [
    "subjs = ['2015-04-14_NJ', '2015-04-24_NJ', '2015-05-05_SB', '2015-05-08_ADS', '2015-05-26_PN', '2015-11-03_ELV', '2015-11-13_PL', '2016-01-05_JJW', '2016-02-26_FLTH', '2016-03-11_MBH', '2016-04-01_NLL', '2016-05-03_HF', '2016-05-03_MBH', '2016-05-24_RGR2', '2016-07-08_JK', '2016-08-02_JJ', '2016-10-19_BA', '2016-12-16_OKR', '2017-01-24_JD', '2017-02-24_HGSF', '2017-03-03_BA', '2017-04-21_ATWJ', '2017-05-05_AJ', '2017-05-19_FSH', '2017-08-22_SB', '2017-08-29_SEKB', '2017-09-01_MK', '2017-10-10_SB', '2017-11-03_VWN', '2017-11-28_ToM', '2015-11-10_BSA']\n",
    "print(len(subjs))"
   ]
  },
  {
   "cell_type": "code",
   "execution_count": null,
   "metadata": {},
   "outputs": [],
   "source": [
    "# go through GA list and sort subjs:\n",
    "GA_list = ['2015-04-14_NJ', '2015-04-24_NJ',  '2015-05-05_SB',  '2016-07-08_JK',  '2016-10-19_BA',  '2017-02-24_HGSF', '2017-03-03_BA', '2017-04-21_ATWJ', '2017-05-05_AJ', '2017-09-01_MK', '2015-05-08_ADS']\n",
    "noGA_list = ['2015-11-10_BSA', '2017-11-28_ToM', '2015-05-26_PN', '2015-11-03_ELV', '2015-11-13_PL', '2016-02-26_FLTH', '2016-03-11_MBH',  '2016-04-01_NLL', '2016-05-03_MBH',  '2017-01-24_JD', '2017-05-19_FSH', '2017-08-22_SB', '2017-08-29_SEKB', '2017-10-10_SB', '2016-05-03_HF', '2016-08-02_JJ', '2017-11-03_VWN']\n"
   ]
  },
  {
   "cell_type": "code",
   "execution_count": null,
   "metadata": {},
   "outputs": [],
   "source": [
    "# get scan start for each sequ type and subject:\n",
    "save = ['Subj_ID, sequence, start_time, end_time']\n",
    "for sub in subjs:\n",
    "    for seq, sct in zip(sequ_abbr, scantimes):\n",
    "        path = '/mnt/mocodata1/BUF/DataMMR/'+sub+'/PETMR*/*'+seq+'*/*'\n",
    "        find = glob.glob(path)\n",
    "        if seq == 't1_mprage_sag':\n",
    "            if len(find)>1:\n",
    "                find = [s for s in find if \"GD\" not in s]\n",
    "        if len(find) > 0:\n",
    "            file = find[0]\n",
    "            start_time = getAcqTimeFromDICOM(file)\n",
    "            # divide sct in minutes and seconds:\n",
    "            mins = sct//60\n",
    "            scs = sct%60\n",
    "            start_tim = datetime.datetime.strptime(start_time, '%H%M%S.%f')\n",
    "            timeToAdd = datetime.timedelta(minutes=mins, seconds=scs)\n",
    "            end_time = (start_tim+ timeToAdd).strftime('%H%M%S.%f')\n",
    "            save.append(sub+', '+seq+', '+str(start_time)+', '+str(end_time))\n",
    "save = np.array(save)\n",
    "np.savetxt(folder+'Scan_Times_Excl.txt', save, fmt=\"%s\")"
   ]
  },
  {
   "cell_type": "code",
   "execution_count": null,
   "metadata": {},
   "outputs": [],
   "source": [
    "# load start time for each scan:\n",
    "Scan_Times = np.loadtxt(folder+'Scan_Times_Excl.txt', dtype=str, delimiter=', ', skiprows=1)"
   ]
  },
  {
   "cell_type": "code",
   "execution_count": null,
   "metadata": {},
   "outputs": [],
   "source": [
    "# file with dicom info (id,age,scan start)\n",
    "file = folder+\"dicomData.csv\"\n",
    "path = \"/mnt/mocodata1/BUF/DataTCL/\"\n",
    "A_dcs2ecs=np.array([[-1, 0, 0, 0], [0, 1, 0, 0], [0, 0, -1, 0], [0, 0, 0, 1]])\n",
    "\n",
    "for d in noGA_list:\n",
    "    aln, tim, poa, log  = getFileNames(path+d)\n",
    "    print(aln,tim,poa,log)\n",
    "    A_tcs2dcs = readtcs2dcs(aln)\n",
    "    A_tcs2ecs = A_dcs2ecs@A_tcs2dcs\n",
    "    time = getTime(file,d)\n",
    "    print(time,d)\n",
    "    # add half of MPRAGE acquisition time (266s)\n",
    "    timeToAdd = datetime.timedelta(minutes=2, seconds=13)\n",
    "    time_ = datetime.datetime.strptime(time, '%H%M%S.%f')\n",
    "    time = (time_+ timeToAdd).strftime('%H%M%S.%f')\n",
    "    refFrame = 0\n",
    "    # get the ref frame (start of scan time) either from tim or log file\n",
    "    if tim!=\"\":\n",
    "        print(\"IN TIM\")\n",
    "        timeDifference = getTimeDifference(log)\n",
    "        print(timeDifference)\n",
    "        timeDiffList = timeDifference.split(\":\")\n",
    "        a = timeDiffList[-1].split(\".\")\n",
    "        # convert to python timedate\n",
    "        timeToAdd = datetime.timedelta(minutes=int(timeDiffList[1]), seconds=int(a[0]), milliseconds=int(a[1]))\n",
    "        refFrame = findFrameNumber(tim, time, timeToAdd)\n",
    "    elif log!=\"\":\n",
    "        print(\"IN LOG\")\n",
    "        print(time)\n",
    "        refFrame = findFrameNumberInLog(log, time)\n",
    "    else:\n",
    "        break\n",
    "    if not os.path.exists(folder+\"No GA_Excl/matricesREF \"+d):\n",
    "        os.mkdir(folder+\"No GA_Excl/matricesREF \"+d)\n",
    "    refTr = transform(poa, A_tcs2ecs, refFrame, \"./new_calc/No GA_Excl/matricesREF \"+d)\n",
    "    if np.sum(refTr)==0:\n",
    "        print(refFrame, ' add 1')\n",
    "        refFrame = str(int(refFrame)+1)\n",
    "        refTr = transform(poa, A_tcs2ecs, refFrame, folder+\"No GA_Excl/matricesREF \"+d)\n",
    "    print(time,refFrame,refTr)"
   ]
  },
  {
   "cell_type": "code",
   "execution_count": null,
   "metadata": {},
   "outputs": [],
   "source": [
    "# file with dicom info (id,age,scan start)\n",
    "file = folder+\"dicomData.csv\"\n",
    "path = \"/mnt/mocodata1/BUF/DataTCL/\"\n",
    "A_dcs2ecs=np.array([[-1, 0, 0, 0], [0, 1, 0, 0], [0, 0, -1, 0], [0, 0, 0, 1]])\n",
    "\n",
    "for d in GA_list:\n",
    "    aln, tim, poa, log  = getFileNames(path+d)\n",
    "    print(aln,tim,poa,log)\n",
    "    A_tcs2dcs = readtcs2dcs(aln)\n",
    "    A_tcs2ecs = A_dcs2ecs@A_tcs2dcs\n",
    "    time = getTime(file,d)\n",
    "    print(time,d)\n",
    "    # add half of MPRAGE acquisition time (266s)\n",
    "    timeToAdd = datetime.timedelta(minutes=2, seconds=13)\n",
    "    time_ = datetime.datetime.strptime(time, '%H%M%S.%f')\n",
    "    time = (time_+ timeToAdd).strftime('%H%M%S.%f')\n",
    "    refFrame = 0\n",
    "    # get the ref frame (start of scan time) either from tim or log file\n",
    "    if tim!=\"\":\n",
    "        print(\"IN TIM\")\n",
    "        timeDifference = getTimeDifference(log)\n",
    "        print(timeDifference)\n",
    "        timeDiffList = timeDifference.split(\":\")\n",
    "        a = timeDiffList[-1].split(\".\")\n",
    "        # convert to python timedate\n",
    "        timeToAdd = datetime.timedelta(minutes=int(timeDiffList[1]), seconds=int(a[0]), milliseconds=int(a[1]))\n",
    "        refFrame = findFrameNumber(tim, time, timeToAdd)\n",
    "        print(refFrame)\n",
    "    elif log!=\"\":\n",
    "        print(\"IN LOG\")\n",
    "        print(time)\n",
    "        refFrame = findFrameNumberInLog(log, time)\n",
    "    else:\n",
    "        break\n",
    "    if not os.path.exists(folder+\"GA_Excl/matricesREF \"+d):\n",
    "        os.mkdir(folder+\"GA_Excl/matricesREF \"+d)\n",
    "    refTr = transform(poa, A_tcs2ecs, refFrame, folder+\"GA_Excl/matricesREF \"+d)\n",
    "    print(time,refFrame,refTr)"
   ]
  },
  {
   "cell_type": "code",
   "execution_count": null,
   "metadata": {},
   "outputs": [],
   "source": []
  }
 ],
 "metadata": {
  "kernelspec": {
   "display_name": "Python 3 (ipykernel)",
   "language": "python",
   "name": "python3"
  },
  "language_info": {
   "codemirror_mode": {
    "name": "ipython",
    "version": 3
   },
   "file_extension": ".py",
   "mimetype": "text/x-python",
   "name": "python",
   "nbconvert_exporter": "python",
   "pygments_lexer": "ipython3",
   "version": "3.8.3"
  }
 },
 "nbformat": 4,
 "nbformat_minor": 2
}
