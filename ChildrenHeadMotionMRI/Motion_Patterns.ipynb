{
 "cells": [
  {
   "cell_type": "markdown",
   "metadata": {},
   "source": [
    "# Analysis of Children's motion data\n",
    "\n",
    "## 1. Import data"
   ]
  },
  {
   "cell_type": "code",
   "execution_count": null,
   "metadata": {},
   "outputs": [],
   "source": [
    "import os\n",
    "import numpy as np\n",
    "import nibabel as nib\n",
    "import matplotlib.pyplot as plt\n",
    "from skimage.measure import label, regionprops\n",
    "from skimage.color import label2rgb\n",
    "import scipy.io\n",
    "import pprint\n",
    "import operator\n",
    "from matplotlib.pyplot import figure\n",
    "import glob\n",
    "from scipy.stats import mannwhitneyu\n",
    "from statsmodels.stats.multitest import multipletests\n",
    "import datetime\n",
    "import pydicom"
   ]
  },
  {
   "cell_type": "code",
   "execution_count": null,
   "metadata": {},
   "outputs": [],
   "source": [
    "from functions import *"
   ]
  },
  {
   "cell_type": "code",
   "execution_count": null,
   "metadata": {},
   "outputs": [],
   "source": [
    "# define output folder:\n",
    "folder = '/pc_disk1/moco/StudentProjects/MSc/Hannah/FrontRadio_Eichhorn_2021/analysis/'\n",
    "\n",
    "# get all subjects:\n",
    "GA = ['2017-03-31_ZA', '2017-04-07_SK', '2017-06-02_MN', '2017-06-16_SJAS', '2017-06-23_AKDW', '2017-07-07_WHO', '2017-11-24_JA', '2018-05-25_MT', '2019-01-11_MS_0607175918', '2015-04-14_EB', '2015-05-19_EV', '2016-09-30_AMRH', '2016-10-21_JNT', '2016-12-09_MN', '2017-02-03_PL', '2017-03-10_SJAS', '2017-03-17_MTD', '2017-03-28_NPN']\n",
    "no_GA = ['2015-09-01_TSS', '2015-10-06_RMI', '2015-10-09_SK', '2015-12-01_FCA', '2015-12-01_VTB', '2015-12-15_LR', '2015-12-15_PN', '2015-12-22_SRo', '2016-02-26_MR', '2016-03-22_NLL', '2016-04-05_ESS', '2016-04-05_JMPD', '2016-04-26_JJ', '2016-05-20_NLL', '2016-05-31_BNP', '2016-06-21_AHA', '2016-06-28_MS', '2016-06-28_NLVS', '2016-08-05_EJ', '2016-09-30_VJ', '2016-10-04_JMPD', '2016-10-11_JJ', '2016-12-13_OKR', '2017-01-06_NM', '2017-01-17_JVJ', '2017-02-14_SLA', '2017-03-14_ESS', '2017-06-06_MS', '2017-06-06_RL', '2017-06-13_LR', '2017-06-20_OH', '2017-09-05_NSH', '2017-09-05_SE2', '2017-09-12_ICV', '2017-09-26_MS', '2017-10-03_RA', '2017-10-10_MA', '2018-01-02_ACK', '2018-01-09_NSN', '2018-03-16_EA', '2018-03-16_TP', '2018-04-17_MWA', '2018-04-24_LR']\n",
    "subjs = np.append(no_GA, GA)\n",
    "print(subjs)"
   ]
  },
  {
   "cell_type": "code",
   "execution_count": null,
   "metadata": {},
   "outputs": [],
   "source": [
    "# get age of GA subjects:\n",
    "file1 = open(folder+\"GA/age.txt\",\"r\") \n",
    "ages = file1.read()\n",
    "ageslist = ages[:-1].split(\"\\n\")\n",
    "print(ageslist)\n",
    "file1.close()"
   ]
  },
  {
   "cell_type": "code",
   "execution_count": null,
   "metadata": {},
   "outputs": [],
   "source": [
    "Scan_Times = np.loadtxt(folder+'Scan_Times.txt', dtype=str, delimiter=', ', skiprows=1)"
   ]
  },
  {
   "cell_type": "code",
   "execution_count": null,
   "metadata": {
    "scrolled": true
   },
   "outputs": [],
   "source": [
    "'''#save to file GA info / point cloud centroid added to centroids \n",
    "for sub in GA:\n",
    "    print(sub)\n",
    "    # reads the vox2ras for the corresponding subject\n",
    "    vox2ras = np.array(np.loadtxt(folder+\"v2r/\"+sub+\".txt\", dtype=float)).reshape(4,4)\n",
    "    c_,r,_ = getCentriods(folder+\"regions binarization/\"+sub,vox2ras)\n",
    "    pcl_centr = PClCentroid(sub)\n",
    "    print('PointCloud centroid: ', pcl_centr)\n",
    "    c = np.append(c_, [pcl_centr], axis=0)\n",
    "    np.savetxt(folder+'GA/centroids '+sub+'.out', np.array(c))\n",
    "    mat_files = StartEndFrameNr([sub], Scan_Times, folder+'GA/')\n",
    "    h = computeHistograms2(mat_files,c)\n",
    "    np.savetxt(folder+'GA/histogramREF '+sub+'.out', np.array(h))'''"
   ]
  },
  {
   "cell_type": "code",
   "execution_count": null,
   "metadata": {},
   "outputs": [],
   "source": []
  },
  {
   "cell_type": "code",
   "execution_count": null,
   "metadata": {
    "scrolled": true
   },
   "outputs": [],
   "source": [
    "# load GA centroids and motion data ('histogram'):\n",
    "GA_centrFile = []\n",
    "GA_maxFile = []\n",
    "GA_avgFile = []\n",
    "GA_medianFile = []\n",
    "GA_patients = []\n",
    "GA_motionfreeFile = []\n",
    "idx = 0\n",
    "idxs = []\n",
    "hGA = []\n",
    "for sub in GA:\n",
    "    print(sub)\n",
    "    vox2ras = np.array(np.loadtxt(folder+\"v2r/\"+sub+\".txt\", dtype=float)).reshape(4,4)\n",
    "    c = np.loadtxt(folder+'GA/centroids '+sub+'.out')\n",
    "    h = np.loadtxt(folder+'GA/histogramREF '+sub+'.out')\n",
    "    h1  = []\n",
    "    modified = False\n",
    "    if not modified :\n",
    "        h1 = h\n",
    "        print(\"do not change\")\n",
    "    else:\n",
    "        print(\"change\")\n",
    "    npH1 = np.array(h1)\n",
    "    hGA.append(h1)\n",
    "    ma = np.amax(npH1, axis=1).tolist()\n",
    "    me = np.median(np.around(npH1, decimals=2), axis=1).tolist()\n",
    "    avg = np.average(npH1, axis=1).tolist()\n",
    "    mp = []\n",
    "    for his in h1:\n",
    "        mp.append(np.array(np.where( np.array(abs(his-his[0])) <2 )).shape[1]*100/len(his))\n",
    "    \n",
    "    print(mp)\n",
    "    GA_motionfreeFile.append(mp)    \n",
    "    GA_centrFile.append(c)\n",
    "    GA_maxFile.append(ma)\n",
    "    GA_avgFile.append(avg)\n",
    "    GA_medianFile.append(me)  \n",
    "    GA_patients.append(sub)\n",
    "    "
   ]
  },
  {
   "cell_type": "markdown",
   "metadata": {},
   "source": [
    "Look at all motion data to make sure that imported correctly:"
   ]
  },
  {
   "cell_type": "code",
   "execution_count": null,
   "metadata": {},
   "outputs": [],
   "source": [
    "for data, pat in zip(hGA, GA_patients):\n",
    "    plt.plot(data.T)\n",
    "    plt.title(pat)\n",
    "    plt.xlabel('Frame Number (not continuous)')\n",
    "    plt.ylabel('Displacement from reference')\n",
    "    plt.show()"
   ]
  },
  {
   "cell_type": "code",
   "execution_count": null,
   "metadata": {},
   "outputs": [],
   "source": [
    "# split up into variable for 16 regions and variable for PointCloud centroid:\n",
    "GA_max_PCl = []\n",
    "GA_avg_PCl = []\n",
    "GA_centr_PCl = []\n",
    "GA_median_PCl = []\n",
    "GA_motionfree_PCl = []\n",
    "for i in range(len(GA_maxFile)):\n",
    "    GA_max_PCl.append(GA_maxFile[i][-1])\n",
    "    GA_maxFile[i] = GA_maxFile[i][:-1]\n",
    "    GA_avg_PCl.append(GA_avgFile[i][-1])\n",
    "    GA_avgFile[i] = GA_avgFile[i][:-1]\n",
    "    GA_centr_PCl.append(GA_centrFile[i][-1])\n",
    "    GA_centrFile[i] = GA_centrFile[i][:-1]\n",
    "    GA_median_PCl.append(GA_medianFile[i][-1])\n",
    "    GA_medianFile[i] = GA_medianFile[i][:-1]\n",
    "    GA_motionfree_PCl.append(GA_motionfreeFile[i][-1])\n",
    "    GA_motionfreeFile[i] = GA_motionfreeFile[i][:-1]"
   ]
  },
  {
   "cell_type": "markdown",
   "metadata": {},
   "source": [
    "- hGA is list of displacement for 16 regions of 18 GA subjects \n",
    "- GA_maxFile, GA_avgFile, GA_medianFile contain maximum, mean and median value of displacement for each subject and each region\n",
    "- GA_max_PCl, ... contain maximum, mean and median value of displacemnt for each subject's point cloud centroid\n",
    "- GA_patients contains list of patients acronym\n",
    "\n",
    "\n",
    "\n",
    "Same analysis for no GA subjects:"
   ]
  },
  {
   "cell_type": "code",
   "execution_count": null,
   "metadata": {
    "scrolled": true
   },
   "outputs": [],
   "source": [
    "'''#save to file no GA info / point cloud centroid added to centroids \n",
    "for sub in no_GA:\n",
    "    print(sub)\n",
    "    # reads the vox2ras for the corresponding subject\n",
    "    vox2ras = np.array(np.loadtxt(folder+\"v2r/\"+sub+\".txt\", dtype=float)).reshape(4,4)\n",
    "    c_,r,_ = getCentriods(folder+\"regions binarization/\"+sub,vox2ras)\n",
    "    pcl_centr = PClCentroid(sub)\n",
    "    print('PointCloud centroid: ', pcl_centr)\n",
    "    c = np.append(c_, [pcl_centr], axis=0)\n",
    "    np.savetxt(folder+'No GA/centroids '+sub+'.out', np.array(c))\n",
    "    mat_files = StartEndFrameNr([sub], Scan_Times, './new_calc/No GA/')\n",
    "    h = computeHistograms2(mat_files,c)\n",
    "    np.savetxt(folder+'No GA/histogramREF '+sub+'.out', np.array(h))'''"
   ]
  },
  {
   "cell_type": "code",
   "execution_count": null,
   "metadata": {},
   "outputs": [],
   "source": [
    "noGAcentrFile = []\n",
    "noGA_maxFile = []\n",
    "noGA_avgFile = []\n",
    "noGA_medianFile = []\n",
    "noGA_motionfreeFile = []\n",
    "noGA_patients = []\n",
    "h_noGA = []\n",
    "for sub in no_GA:\n",
    "    print(sub)\n",
    "    c = np.loadtxt(folder+'No GA/centroids '+sub+'.out')\n",
    "    h = np.loadtxt(folder+'No GA/histogramREF '+sub+'.out')\n",
    "    h1 = []\n",
    "    npH = np.array(h)\n",
    "    exclude = False\n",
    "    count = 0 \n",
    "            \n",
    "            \n",
    "    if count!=16:\n",
    "        h1 = h\n",
    "        print(count)\n",
    "        print(\"dont change\")\n",
    "    else:\n",
    "        print(\"change\")\n",
    "    h_noGA.append(h1)\n",
    "    npH1 = np.array(h1)     \n",
    " \n",
    "    ma = np.amax(npH1, axis=1).tolist()\n",
    "    me = np.median(np.around(npH1, decimals=2), axis=1).tolist()\n",
    "    print(me)\n",
    "    avg = np.average(npH1, axis=1).tolist()\n",
    "    mp = []\n",
    "    for his in h1:\n",
    "        mp.append(np.array(np.where( np.array(abs(his-his[0])) <2 )).shape[1]*100/len(his)) \n",
    "        \n",
    "    print(mp)\n",
    "    noGA_motionfreeFile.append(mp) \n",
    "    noGAcentrFile.append(c)\n",
    "    noGA_maxFile.append(ma)\n",
    "    noGA_avgFile.append(avg)\n",
    "    noGA_medianFile.append(me)\n",
    "    noGA_patients.append(sub)"
   ]
  },
  {
   "cell_type": "code",
   "execution_count": null,
   "metadata": {},
   "outputs": [],
   "source": [
    "for data, pat in zip(h_noGA, noGA_patients):\n",
    "    plt.plot(data.T)\n",
    "    plt.title(pat)\n",
    "    plt.xlabel('Frame Number (not continuous)')\n",
    "    plt.ylabel('Displacement from reference')\n",
    "    plt.show()"
   ]
  },
  {
   "cell_type": "code",
   "execution_count": null,
   "metadata": {},
   "outputs": [],
   "source": [
    "# split up into variable for 16 regions and variable for PointCloud centroid:\n",
    "noGA_max_PCl = []\n",
    "noGA_avg_PCl = []\n",
    "noGA_centr_PCl = []\n",
    "noGA_median_PCl = []\n",
    "noGA_motionfree_PCl = []\n",
    "for i in range(len(noGA_maxFile)):\n",
    "    noGA_max_PCl.append(noGA_maxFile[i][-1])\n",
    "    noGA_maxFile[i] = noGA_maxFile[i][:-1]\n",
    "    noGA_avg_PCl.append(noGA_avgFile[i][-1])\n",
    "    noGA_avgFile[i] = noGA_avgFile[i][:-1]\n",
    "    noGA_centr_PCl.append(noGAcentrFile[i][-1])\n",
    "    noGAcentrFile[i] = noGAcentrFile[i][:-1]\n",
    "    noGA_median_PCl.append(noGA_medianFile[i][-1])\n",
    "    noGA_medianFile[i] = noGA_medianFile[i][:-1]\n",
    "    noGA_motionfree_PCl.append(noGA_motionfreeFile[i][-1])\n",
    "    noGA_motionfreeFile[i] = noGA_motionfreeFile[i][:-1]"
   ]
  },
  {
   "cell_type": "code",
   "execution_count": null,
   "metadata": {},
   "outputs": [],
   "source": [
    "print(np.amax(GA_avg_PCl), np.amax(GA_median_PCl), np.amax(GA_max_PCl), np.amin(GA_motionfree_PCl))\n",
    "print(np.median(GA_avg_PCl), np.median(GA_median_PCl), np.median(GA_max_PCl), np.median(GA_motionfree_PCl))"
   ]
  },
  {
   "cell_type": "markdown",
   "metadata": {},
   "source": [
    "## 2. Compare metrics for point cloud centroid:"
   ]
  },
  {
   "cell_type": "code",
   "execution_count": null,
   "metadata": {},
   "outputs": [],
   "source": [
    "metrics_GA = [GA_avg_PCl, GA_median_PCl, GA_max_PCl, GA_motionfree_PCl]\n",
    "metrics_noGA = [noGA_avg_PCl, noGA_median_PCl, noGA_max_PCl, noGA_motionfree_PCl]\n",
    "titles = ['Mean Displacement', 'Median Displacement', 'Maximum Displacement', 'Motion-free Time']\n",
    "ylabels = ['Displacement [mm]', 'Displacement [mm]', 'Displacement [mm]', 'Motion-free time [%]']\n",
    "colors = ['tab:blue', 'tab:orange']\n",
    "\n",
    "plt.figure(figsize=(10,7))\n",
    "plt.rcParams.update({'font.size': 14})\n",
    "for i in range(0, 4):\n",
    "    plt.subplot(2,2,i+1)\n",
    "    plt.boxplot([metrics_noGA[i], metrics_GA[i]])\n",
    "    for k, j in zip(range(1, 3), [metrics_noGA[i], metrics_GA[i]]):\n",
    "        plt.plot(np.ones(len(j))*k, j, 'o', c=colors[k-1], ms=4)\n",
    "    plt.title(titles[i])\n",
    "    plt.xticks([1,2], ['No GA', 'GA'])\n",
    "    plt.ylabel(ylabels[i])\n",
    "plt.subplots_adjust(hspace=0.4, wspace=0.35)\n",
    "plt.savefig(folder+'Plots/Metrics_PClCentroid.png', dpi=200, bbox_inches='tight')\n",
    "plt.show()"
   ]
  },
  {
   "cell_type": "code",
   "execution_count": null,
   "metadata": {},
   "outputs": [],
   "source": [
    "print(np.median(noGA_avg_PCl), np.std(noGA_avg_PCl))\n",
    "print(np.median(GA_avg_PCl), np.std(GA_avg_PCl))"
   ]
  },
  {
   "cell_type": "code",
   "execution_count": null,
   "metadata": {},
   "outputs": [],
   "source": [
    "print('No GA:')\n",
    "print('Med:', np.median(noGA_median_PCl), '+-', np.std(noGA_median_PCl))\n",
    "print('Mean:', np.median(noGA_avg_PCl), '+-', np.std(noGA_avg_PCl))\n",
    "print('Max:', np.median(noGA_max_PCl), '+-', np.std(noGA_max_PCl))\n",
    "print('Motionfree:', np.median(noGA_motionfree_PCl), '+-', np.std(noGA_motionfree_PCl))\n",
    "print('GA:')\n",
    "print('Med:', np.median(GA_median_PCl), '+-', np.std(GA_median_PCl))\n",
    "print('Mean:', np.median(GA_avg_PCl), '+-', np.std(GA_avg_PCl))\n",
    "print('Max:', np.median(GA_max_PCl), '+-', np.std(GA_max_PCl))\n",
    "print('Motionfree:', np.median(GA_motionfree_PCl), '+-', np.std(GA_motionfree_PCl))"
   ]
  },
  {
   "cell_type": "markdown",
   "metadata": {},
   "source": [
    "Plot comparison of excluded and included.\n",
    "\n",
    "First run analysis for excluded scans at the end of this notebook!"
   ]
  },
  {
   "cell_type": "code",
   "execution_count": null,
   "metadata": {},
   "outputs": [],
   "source": [
    "metrics_GA_ex = np.loadtxt('../new_calc/metrics_GA_Excl')\n",
    "metrics_noGA_ex = np.loadtxt('../new_calc/metrics_noGA_Excl')\n",
    "\n",
    "titles = ['Mean Displacement', 'Median Displacement', 'Maximum Displacement', 'Motion-free Time']\n",
    "ylabels = ['Displacement [mm]', 'Displacement [mm]', 'Displacement [mm]', 'Motion-free time [%]']\n",
    "colors = ['tab:blue', 'tab:gray', 'tab:orange', 'tab:gray']\n",
    "\n",
    "plt.figure(figsize=(11,7))\n",
    "plt.rcParams.update({'font.size': 14})\n",
    "for i in range(0, 4):\n",
    "    plt.subplot(2,2,i+1)\n",
    "    plt.boxplot([metrics_noGA[i], metrics_noGA_ex[i], metrics_GA[i], metrics_GA_ex[i]])\n",
    "    for k, j in zip(range(1, 5), [metrics_noGA[i], metrics_noGA_ex[i], metrics_GA[i], metrics_GA_ex[i]]):\n",
    "        plt.plot(np.ones(len(j))*k, j, 'o', c=colors[k-1], ms=4)\n",
    "    plt.title(titles[i])\n",
    "    plt.xticks([1,2,3,4], ['No GA', 'No GA Excl', 'GA', 'GA Excl'], fontsize=12)\n",
    "    plt.ylabel(ylabels[i])\n",
    "plt.subplots_adjust(hspace=0.4, wspace=0.35)\n",
    "plt.savefig(folder+'Plots/App_Excl_Metrics_PClCentroid.png', dpi=200, bbox_inches='tight')\n",
    "plt.show()"
   ]
  },
  {
   "cell_type": "code",
   "execution_count": null,
   "metadata": {
    "scrolled": true
   },
   "outputs": [],
   "source": []
  },
  {
   "cell_type": "code",
   "execution_count": null,
   "metadata": {},
   "outputs": [],
   "source": [
    "age_, pat_id_ = np.loadtxt(folder+'ages.csv', skiprows=1, dtype=str, unpack=True, delimiter=',')\n",
    "\n",
    "pat_id, age = [], []\n",
    "for i in range(len(GA_patients)):\n",
    "    ind = np.where(pat_id_ == GA_patients[i])[0][0]\n",
    "    pat_id.append(pat_id_[ind])\n",
    "    age.append(int(age_[ind]))"
   ]
  },
  {
   "cell_type": "code",
   "execution_count": null,
   "metadata": {},
   "outputs": [],
   "source": [
    "# distinguish between GA under/over 7 years\n",
    "ind1 = np.where(np.array(age) <= 7)\n",
    "ind2 = np.where(np.array(age) > 7)\n",
    "metrics_GA_und = [np.array(GA_avg_PCl)[ind1], np.array(GA_median_PCl)[ind1], np.array(GA_max_PCl)[ind1], np.array(GA_motionfree_PCl)[ind1]]\n",
    "metrics_GA_ov = [np.array(GA_avg_PCl)[ind2], np.array(GA_median_PCl)[ind2], np.array(GA_max_PCl)[ind2], np.array(GA_motionfree_PCl)[ind2]]\n",
    "metrics_noGA = [noGA_avg_PCl, noGA_median_PCl, noGA_max_PCl, noGA_motionfree_PCl]\n",
    "titles = ['Mean Displacement', 'Median Displacement', 'Maximum Displacement', 'Motion-free Time']\n",
    "ylabels = ['Displacement [mm]', 'Displacement [mm]', 'Displacement [mm]', 'Motion-free time [%]']\n",
    "colors = ['tab:blue', 'tab:orange', 'tab:green']\n",
    "\n",
    "plt.figure(figsize=(10,7))\n",
    "plt.rcParams.update({'font.size': 14})\n",
    "for i in range(0, 4):\n",
    "    plt.subplot(2,2,i+1)\n",
    "    plt.boxplot([metrics_noGA[i], metrics_GA_und[i], metrics_GA_ov[i]])\n",
    "    for k, j in zip(range(1, 4), [metrics_noGA[i], metrics_GA[i], metrics_GA_ov[i]]):\n",
    "        plt.plot(np.ones(len(j))*k, j, 'o', c=colors[k-1], ms=4)\n",
    "    plt.title(titles[i])\n",
    "    plt.xticks([1,2, 3], ['No GA', 'GA $\\leq$ 7y', 'GA > 7y'])\n",
    "    plt.ylabel(ylabels[i])\n",
    "plt.subplots_adjust(hspace=0.4, wspace=0.35)\n",
    "plt.show()"
   ]
  },
  {
   "cell_type": "markdown",
   "metadata": {},
   "source": [
    "### Statistics:\n",
    "only distinguish between no GA and GA, but if age is taken into account in paper as well, needs to be included!"
   ]
  },
  {
   "cell_type": "code",
   "execution_count": null,
   "metadata": {},
   "outputs": [],
   "source": [
    "p_values = []\n",
    "tests = []\n",
    "metrics_GA = [GA_avg_PCl, GA_median_PCl, GA_max_PCl, GA_motionfree_PCl]\n",
    "metrics_noGA = [noGA_avg_PCl, noGA_median_PCl, noGA_max_PCl, noGA_motionfree_PCl]\n",
    "name = ['PCl_avg', 'PCl_median', 'PCl_max', 'PCl_motionfree']\n",
    "altern = ['less', 'less', 'less', 'greater']\n",
    "print('Test the four matrices:')\n",
    "for mga, mnga, n, alt in zip(metrics_GA, metrics_noGA, name, altern):\n",
    "    p = mannwhitneyu(mga, mnga, alternative=alt)[1]\n",
    "    p_values.append(p)\n",
    "    tests.append(n)\n",
    "    print(n, ' test GA ', alt, ' no GA: p = ', p)"
   ]
  },
  {
   "cell_type": "code",
   "execution_count": null,
   "metadata": {},
   "outputs": [],
   "source": []
  },
  {
   "cell_type": "markdown",
   "metadata": {},
   "source": [
    "\n",
    "\n",
    "## 4. Movement on axes:"
   ]
  },
  {
   "cell_type": "code",
   "execution_count": null,
   "metadata": {
    "scrolled": true
   },
   "outputs": [],
   "source": [
    "'''# extract motion separately on each axis:\n",
    "allx = []\n",
    "ally = []\n",
    "allz = []\n",
    "for sub in GA:\n",
    "    xx = []\n",
    "    yy = []\n",
    "    zz = []\n",
    "    centr = np.loadtxt(folder+'GA/centroids '+sub+'.out')\n",
    "    filenames = StartEndFrameNr([sub], Scan_Times, folder+'GA/')\n",
    "    for centroid in centr:\n",
    "        x = []\n",
    "        y = []\n",
    "        z = []\n",
    "        for file in filenames:\n",
    "            mat = scipy.io.loadmat(file)\n",
    "            if \"ref\" not in file:\n",
    "                transf = mat[\"matrix\"]\n",
    "                ec = np.append(centroid,1)\n",
    "                newCentroid = np.dot(transf, ec)\n",
    "                x.append((ec[0]-newCentroid[0]))\n",
    "                y.append((ec[1]-newCentroid[1]))\n",
    "                z.append((ec[2]-newCentroid[2]))\n",
    "        xx.append(x)\n",
    "        yy.append(y)\n",
    "        zz.append(z)\n",
    "        print(sub)\n",
    "    allx.append(xx)\n",
    "    ally.append(yy)\n",
    "    allz.append(zz)\n",
    "    \n",
    "count = 0\n",
    "for sub in GA:\n",
    "    np.savetxt(folder+'GA axis/xREF '+sub+'.out', np.array(allx[count]))\n",
    "    np.savetxt(folder+'GA axis/yREF '+sub+'.out', np.array(ally[count]))\n",
    "    np.savetxt(folder+'GA axis/zREF '+sub+'.out', np.array(allz[count]))\n",
    "    count+=1'''"
   ]
  },
  {
   "cell_type": "code",
   "execution_count": null,
   "metadata": {
    "scrolled": true
   },
   "outputs": [],
   "source": [
    "'''# extract motion separately on each axis:\n",
    "allx1 = []\n",
    "ally1 = []\n",
    "allz1 = []\n",
    "for sub in no_GA:\n",
    "    xx = []\n",
    "    yy = []\n",
    "    zz = []\n",
    "    centr = np.loadtxt(folder+'No GA/centroids '+sub+'.out')\n",
    "    filenames = StartEndFrameNr([sub], Scan_Times, folder+'No GA/')\n",
    "    for centroid in centr:\n",
    "        x = []\n",
    "        y = []\n",
    "        z = []\n",
    "        for file in filenames:\n",
    "            mat = scipy.io.loadmat(file)\n",
    "            if \"ref\" not in file:\n",
    "                transf = mat[\"matrix\"]\n",
    "                ec = np.append(centroid,1)\n",
    "                newCentroid = np.dot(transf, ec)\n",
    "                x.append((ec[0]-newCentroid[0]))\n",
    "                y.append((ec[1]-newCentroid[1]))\n",
    "                z.append((ec[2]-newCentroid[2]))\n",
    "        xx.append(x)\n",
    "        yy.append(y)\n",
    "        zz.append(z)\n",
    "        print(sub)\n",
    "    allx1.append(xx)\n",
    "    ally1.append(yy)\n",
    "    allz1.append(zz)\n",
    " \n",
    "count = 0\n",
    "for sub in no_GA:\n",
    "    np.savetxt(folder+'No GA axis/xREF '+sub+'.out', np.array(allx1[count]))\n",
    "    np.savetxt(folder+'No GA axis/yREF '+sub+'.out', np.array(ally1[count]))\n",
    "    np.savetxt(folder+'No GA axis/zREF '+sub+'.out', np.array(allz1[count]))\n",
    "    count+=1'''"
   ]
  },
  {
   "cell_type": "code",
   "execution_count": null,
   "metadata": {},
   "outputs": [],
   "source": []
  },
  {
   "cell_type": "code",
   "execution_count": null,
   "metadata": {
    "scrolled": true
   },
   "outputs": [],
   "source": [
    "# load the data and calculate medians:\n",
    "noGA_medianx = []\n",
    "noGA_mediany = []\n",
    "noGA_medianz = []\n",
    "allx1 = []\n",
    "ally1 = []\n",
    "allz1 = []\n",
    "for sub in no_GA:\n",
    "    xx = []\n",
    "    yy = []\n",
    "    zz = []\n",
    "    print(sub)\n",
    "    x = abs(np.loadtxt(folder+'No GA axis/xREF '+sub+'.out'))\n",
    "    y = abs(np.loadtxt(folder+'No GA axis/yREF '+sub+'.out'))\n",
    "    z = abs(np.loadtxt(folder+'No GA axis/zREF '+sub+'.out'))\n",
    "    change = False            \n",
    "            \n",
    "    if change == True:\n",
    "        x = xx\n",
    "        y = yy\n",
    "        z = zz\n",
    "        print(\"change\")\n",
    "    allx1.append(x)\n",
    "    ally1.append(y)\n",
    "    allz1.append(z)\n",
    "    mex = np.median(np.around(np.array(x), decimals=2), axis=1).tolist()\n",
    "    mey = np.median(np.around(np.array(y), decimals=2), axis=1).tolist()\n",
    "    mez = np.median(np.around(np.array(z), decimals=2), axis=1).tolist()\n",
    "\n",
    "    noGA_medianx.append(mex)\n",
    "    noGA_mediany.append(mey)\n",
    "    noGA_medianz.append(mez)"
   ]
  },
  {
   "cell_type": "code",
   "execution_count": null,
   "metadata": {
    "scrolled": true
   },
   "outputs": [],
   "source": [
    "# load the data and calculate medians:\n",
    "GA_medianx = []\n",
    "GA_mediany = []\n",
    "GA_medianz = []\n",
    "allx = []\n",
    "ally = []\n",
    "allz = []\n",
    "a = 0\n",
    "for sub in GA:\n",
    "    xx = []\n",
    "    yy = []\n",
    "    zz = []\n",
    "    print(sub)\n",
    "    x = abs(np.loadtxt(folder+'GA axis/xREF '+sub+'.out'))\n",
    "    y = abs(np.loadtxt(folder+'GA axis/yREF '+sub+'.out'))\n",
    "    z = abs(np.loadtxt(folder+'GA axis/zREF '+sub+'.out'))\n",
    "\n",
    "    change = False\n",
    "\n",
    "    if change == True:\n",
    "        x = xx\n",
    "        y = yy\n",
    "        z = zz\n",
    "        print(\"change\")\n",
    "    allx.append(x)\n",
    "    ally.append(y)\n",
    "    allz.append(z)\n",
    "    mex = np.median(np.around(np.array(x), decimals=2), axis=1).tolist()\n",
    "    mey = np.median(np.around(np.array(y), decimals=2), axis=1).tolist()\n",
    "    mez = np.median(np.around(np.array(z), decimals=2), axis=1).tolist()\n",
    "\n",
    "    GA_medianx.append(mex)\n",
    "    GA_mediany.append(mey)\n",
    "    GA_medianz.append(mez)\n",
    "    a+=1"
   ]
  },
  {
   "cell_type": "code",
   "execution_count": null,
   "metadata": {},
   "outputs": [],
   "source": []
  },
  {
   "cell_type": "markdown",
   "metadata": {},
   "source": [
    "## 5. Decomposition of matrices:"
   ]
  },
  {
   "cell_type": "code",
   "execution_count": null,
   "metadata": {
    "scrolled": true
   },
   "outputs": [],
   "source": [
    "GA_MeanTr_pm, GA_MeanRot_pm, GA_StdTr_pm, GA_StdRot_pm = Decompose_All_pm(GA_patients, path=folder+'GA/')        \n",
    "print('first done')\n",
    "noGA_MeanTr_pm, noGA_MeanRot_pm, noGA_StdTr_pm, noGA_StdRot_pm = Decompose_All_pm(noGA_patients, path=folder+'No GA/')\n",
    "print('both done')"
   ]
  },
  {
   "cell_type": "code",
   "execution_count": null,
   "metadata": {
    "scrolled": true
   },
   "outputs": [],
   "source": [
    "GA_MeanTr, GA_MeanRot, GA_StdTr, GA_StdRot = Decompose_All(GA_patients, path=folder+'GA/')        \n",
    "print('first done')\n",
    "noGA_MeanTr, noGA_MeanRot, noGA_StdTr, noGA_StdRot = Decompose_All(noGA_patients, path=folder+'No GA/')\n",
    "print('both done')"
   ]
  },
  {
   "cell_type": "code",
   "execution_count": null,
   "metadata": {},
   "outputs": [],
   "source": []
  },
  {
   "cell_type": "code",
   "execution_count": null,
   "metadata": {},
   "outputs": [],
   "source": [
    "# Test translations / rotations for GA group:\n",
    "print('Test with GA group:')\n",
    "p = mannwhitneyu(GA_MeanTr[:,2], GA_MeanTr[:,1],alternative='greater')[1]\n",
    "p_values.append(p)\n",
    "tests.append('GA_T_z_greater_y')\n",
    "print('Tz with Ty', p)\n",
    "p = mannwhitneyu(GA_MeanTr[:,2], GA_MeanTr[:,0],alternative='greater')[1]\n",
    "p_values.append(p)\n",
    "tests.append('GA_T_z_greater_x')\n",
    "print('Tz with Tx', p)\n",
    "p = mannwhitneyu(GA_MeanTr[:,0], GA_MeanTr[:,1],alternative='greater')[1]\n",
    "p_values.append(p)\n",
    "tests.append('GA_T_x_greater_y')\n",
    "print('Tx with Ty', p)\n",
    "p = mannwhitneyu(GA_MeanRot[:,2], GA_MeanRot[:,1],alternative='greater')[1]\n",
    "p_values.append(p)\n",
    "tests.append('GA_R_z_greater_y')\n",
    "print('Rz with Ry', p)\n",
    "p = mannwhitneyu(GA_MeanRot[:,0], GA_MeanRot[:,2],alternative='greater')[1]\n",
    "p_values.append(p)\n",
    "tests.append('GA_R_x_greater_z')\n",
    "print('Rx with Rz', p)\n",
    "p = mannwhitneyu(GA_MeanRot[:,0], GA_MeanRot[:,1],alternative='greater')[1]\n",
    "p_values.append(p)\n",
    "tests.append('GA_R_x_greater_y')\n",
    "print('Rx with Ry', p)\n",
    "\n",
    "# Test translations / rotations for no GA group:\n",
    "print('Test without GA group:')\n",
    "p = mannwhitneyu(noGA_MeanTr[:,2], noGA_MeanTr[:,1],alternative='greater')[1]\n",
    "p_values.append(p)\n",
    "tests.append('noGA_T_z_greater_y')\n",
    "print('Tz with Ty', p)\n",
    "p = mannwhitneyu(noGA_MeanTr[:,2], noGA_MeanTr[:,0],alternative='greater')[1]\n",
    "p_values.append(p)\n",
    "tests.append('noGA_T_z_greater_x')\n",
    "print('Tz with Tx', p)\n",
    "p = mannwhitneyu(noGA_MeanTr[:,0], noGA_MeanTr[:,1],alternative='greater')[1]\n",
    "p_values.append(p)\n",
    "tests.append('noGA_T_x_greater_y')\n",
    "print('Tx with Ty', p)\n",
    "p = mannwhitneyu(noGA_MeanRot[:,2], noGA_MeanRot[:,1],alternative='greater')[1]\n",
    "p_values.append(p)\n",
    "tests.append('noGA_R_z_greater_y')\n",
    "print('Rz with Ry', p)\n",
    "p = mannwhitneyu(noGA_MeanRot[:,0], noGA_MeanRot[:,2],alternative='greater')[1]\n",
    "p_values.append(p)\n",
    "tests.append('noGA_R_x_greater_z')\n",
    "print('Rx with Rz', p)\n",
    "p = mannwhitneyu(noGA_MeanRot[:,0], noGA_MeanRot[:,1],alternative='greater')[1]\n",
    "p_values.append(p)\n",
    "tests.append('noGA_R_x_greater_y')\n",
    "print('Rx with Ry', p)"
   ]
  },
  {
   "cell_type": "code",
   "execution_count": null,
   "metadata": {},
   "outputs": [],
   "source": [
    "print(np.median(noGA_MeanTr_pm, axis=0))\n",
    "print(np.std(noGA_MeanTr_pm, axis=0))\n",
    "print(np.median(GA_MeanTr_pm, axis=0))\n",
    "print(np.std(GA_MeanTr_pm, axis=0))\n",
    "print(np.median(noGA_MeanRot_pm, axis=0))\n",
    "print(np.std(noGA_MeanRot_pm, axis=0))"
   ]
  },
  {
   "cell_type": "code",
   "execution_count": null,
   "metadata": {},
   "outputs": [],
   "source": [
    "print(np.median(noGA_MeanTr, axis=0))\n",
    "print(np.std(noGA_MeanTr, axis=0))\n",
    "print(np.median(GA_MeanTr, axis=0))\n",
    "print(np.std(GA_MeanTr, axis=0))\n",
    "print(np.median(noGA_MeanRot, axis=0))\n",
    "print(np.std(noGA_MeanRot, axis=0))"
   ]
  },
  {
   "cell_type": "markdown",
   "metadata": {},
   "source": [
    "# 6. Multiple Tests correction:"
   ]
  },
  {
   "cell_type": "code",
   "execution_count": null,
   "metadata": {},
   "outputs": [],
   "source": [
    "# add p-values for motion on axes:\n",
    "ax = []\n",
    "centroidsMel, regionsMel,result = getCentriods(folder+\"test_data\",vox2ras,0)\n",
    "for i in range(16):\n",
    "    print(regionsMel[i])\n",
    "    #print(mannwhitneyu(np.array(GA_medianz)[:,i],np.array(GA_medianx)[:,i],alternative='greater')[1]<(0.05/64))    \n",
    "    p_values.append(mannwhitneyu(np.array(GA_medianz)[:,i],np.array(GA_medianx)[:,i],alternative='greater')[1])\n",
    "    tests.append(regionsMel[i]+'GA_zx')\n",
    "    #print(mannwhitneyu(np.array(GA_medianz)[:,i],np.array(GA_mediany)[:,i],alternative='greater')[1]<(0.05/64))\n",
    "    p_values.append(mannwhitneyu(np.array(GA_medianz)[:,i],np.array(GA_mediany)[:,i],alternative='greater')[1])\n",
    "    tests.append(regionsMel[i]+'GA_zy')\n",
    "    #print(mannwhitneyu(np.array(noGA_medianz)[:,i],np.array(noGA_medianx)[:,i],alternative='greater')[1]<(0.05/64))    \n",
    "    p_values.append(mannwhitneyu(np.array(noGA_medianz)[:,i],np.array(noGA_medianx)[:,i],alternative='greater')[1])\n",
    "    tests.append(regionsMel[i]+'noGA_zx')\n",
    "    #print(mannwhitneyu(np.array(noGA_medianz)[:,i],np.array(noGA_mediany)[:,i],alternative='greater')[1]<(0.05/64))\n",
    "    p_values.append(mannwhitneyu(np.array(noGA_medianz)[:,i],np.array(noGA_mediany)[:,i],alternative='greater')[1])\n",
    "    tests.append(regionsMel[i]+'noGA_zy')"
   ]
  },
  {
   "cell_type": "code",
   "execution_count": null,
   "metadata": {
    "scrolled": true
   },
   "outputs": [],
   "source": [
    "#add p_values for metrics:\n",
    "for i in range(16):\n",
    "    print(regionsMel[i],0.05/54)\n",
    "    #print(mannwhitneyu(np.array(noGA_maxFile)[:,i],np.array(GA_maxFile)[:,i],alternative='greater')[1])\n",
    "    p_values.append(mannwhitneyu(np.array(noGA_maxFile)[:,i],np.array(GA_maxFile)[:,i],alternative='greater')[1])\n",
    "    tests.append(regionsMel[i]+'max')\n",
    "    #print(mannwhitneyu(np.array(noGA_medianFile)[:,i],np.array(GA_medianFile)[:,i],alternative='greater')[1])\n",
    "    p_values.append(mannwhitneyu(np.array(noGA_medianFile)[:,i],np.array(GA_medianFile)[:,i],alternative='greater')[1])\n",
    "    tests.append(regionsMel[i]+'median')\n",
    "    #print(mannwhitneyu(np.array(noGA_avgFile)[:,i],np.array(GA_avgFile)[:,i],alternative='greater')[1])\n",
    "    p_values.append(mannwhitneyu(np.array(noGA_avgFile)[:,i],np.array(GA_avgFile)[:,i],alternative='greater')[1])\n",
    "    tests.append(regionsMel[i]+'avg')\n",
    "    #print(mannwhitneyu(np.array(noGA_motionfreeFile)[:,i],np.array(GA_motionfreeFile)[:,i],alternative='less')[1])\n",
    "    p_values.append(mannwhitneyu(np.array(noGA_motionfreeFile)[:,i],np.array(GA_motionfreeFile)[:,i],alternative='less')[1])\n",
    "    tests.append(regionsMel[i]+'motionfree')"
   ]
  },
  {
   "cell_type": "code",
   "execution_count": null,
   "metadata": {
    "scrolled": true
   },
   "outputs": [],
   "source": []
  },
  {
   "cell_type": "code",
   "execution_count": null,
   "metadata": {},
   "outputs": [],
   "source": [
    "rej, p_values_cor, _, __ = multipletests(p_values, alpha=0.05, method='fdr_bh', is_sorted=False, returnsorted=False)"
   ]
  },
  {
   "cell_type": "code",
   "execution_count": null,
   "metadata": {},
   "outputs": [],
   "source": [
    "for i in range(len(p_values)):\n",
    "    print(' reject = ', rej[i], ' ', tests[i], ' p = ', p_values[i], ' p_cor = ', p_values_cor[i])"
   ]
  },
  {
   "cell_type": "code",
   "execution_count": null,
   "metadata": {},
   "outputs": [],
   "source": []
  },
  {
   "cell_type": "markdown",
   "metadata": {},
   "source": [
    "### Comparison metrics GA and non GA:"
   ]
  },
  {
   "cell_type": "code",
   "execution_count": null,
   "metadata": {
    "scrolled": false
   },
   "outputs": [],
   "source": [
    "metrics_GA = [GA_avg_PCl, GA_median_PCl, GA_max_PCl, GA_motionfree_PCl]\n",
    "metrics_noGA = [noGA_avg_PCl, noGA_median_PCl, noGA_max_PCl, noGA_motionfree_PCl]\n",
    "titles = ['Mean Displacement', 'Median Displacement', 'Maximum Displacement', 'Motion-free Time']\n",
    "ylabels = ['Displacement [mm]', 'Displacement [mm]', 'Displacement [mm]', 'Motion-free time [%]']\n",
    "colors = ['tab:blue', 'tab:orange']\n",
    "p_cor = p_values_cor[0:4]\n",
    "star = p_cor < 0.05\n",
    "starstar = p_cor < 0.001\n",
    "print(p_cor, star, starstar)\n",
    "\n",
    "\n",
    "plt.figure(figsize=(10,7))\n",
    "plt.rcParams.update({'font.size': 14})\n",
    "for i in range(0, 4):\n",
    "    ax = plt.subplot(2,2,i+1)\n",
    "    plt.boxplot([metrics_noGA[i], metrics_GA[i]])\n",
    "    for k, j in zip(range(1, 3), [metrics_noGA[i], metrics_GA[i]]):\n",
    "        plt.plot(np.ones(len(j))*k, j, 'o', c=colors[k-1], ms=4)\n",
    "    plt.title(titles[i])\n",
    "    plt.xticks([1,2], ['No GA', 'GA'])\n",
    "    plt.ylabel(ylabels[i])\n",
    "    bars = np.array([1,2])\n",
    "    heights = np.array([np.amax(metrics_noGA[i]), np.amax(metrics_GA[i])])\n",
    "    if starstar[i]==True:\n",
    "        barplot_annotate_brackets(0, 1, '**', bars, heights, dh=.1)\n",
    "    else:\n",
    "        if star[i]==True:\n",
    "            barplot_annotate_brackets(0, 1, '*', bars, heights, dh=.1)\n",
    "    lim = ax.get_ylim()\n",
    "    plt.ylim(lim[0],(lim[1]-lim[0])*1.15)\n",
    "plt.subplots_adjust(hspace=0.4, wspace=0.35)\n",
    "plt.savefig(folder+'Plots/Metrics_PClCentroid.png', dpi=200, bbox_inches='tight')\n",
    "plt.show()"
   ]
  },
  {
   "cell_type": "markdown",
   "metadata": {},
   "source": [
    "### Transformation decomposition:"
   ]
  },
  {
   "cell_type": "code",
   "execution_count": null,
   "metadata": {},
   "outputs": [],
   "source": [
    "p_cor = p_values_cor[4:16]\n",
    "star = p_cor < 0.05\n",
    "starstar = p_cor < 0.001\n",
    "print(p_cor, star, starstar)\n",
    "a = [1,0,0,4,3,3]\n",
    "b = [2,2,1,5,5,4]\n",
    "\n",
    "colors = ['tab:blue', 'tab:orange', 'tab:green', 'tab:gray', 'tab:cyan', \n",
    "          'tab:olive', 'firebrick', 'gold', 'mediumaquamarine', 'purple']\n",
    "\n",
    "plt.figure(figsize=(13, 5))\n",
    "plt.rcParams.update({'font.size': 14})\n",
    "ax = plt.subplot(1,2,1)\n",
    "plt.boxplot(np.append(noGA_MeanTr_pm, noGA_MeanRot_pm, axis=1))\n",
    "for i, j, k in zip(range(1, 7), np.append(noGA_MeanTr_pm, noGA_MeanRot_pm, axis=1).T, ['tx', 'ty', 'tz', 'Rx', 'Ry', 'Rz']):\n",
    "    plt.plot(np.ones(len(j))*i, j, 'o', c=colors[i-1], label=k, ms=4)\n",
    "plt.ylabel('Mean translation / rotation [mm / °]')\n",
    "plt.xticks([1,2,3,4,5,6], ['$t_x$', '$t_y$', '$t_z$', '$R_x$', '$R_y$', '$R_z$'])\n",
    "plt.title('Patients without GA')\n",
    "bars = np.array([1,2,3,4,5,6])\n",
    "heights = np.append(np.amax(noGA_MeanTr_pm, axis=0), np.amax(noGA_MeanRot_pm, axis=0))\n",
    "cnt1, cnt2 = 0,0\n",
    "dh=[.3, .2, .4]\n",
    "for i,a_,b_ in zip(range(6,12),a,b):\n",
    "    if starstar[i]==True:\n",
    "        barplot_annotate_brackets(a_, b_, '**', bars, heights, dh=dh[cnt1])\n",
    "        cnt1+=1\n",
    "    else:\n",
    "        if star[i]==True:\n",
    "            barplot_annotate_brackets(a_, b_, '*', bars, heights, dh=dh[cnt2])\n",
    "            cnt2+=1\n",
    "lim = ax.get_ylim()\n",
    "plt.ylim(lim[0],(lim[1])*1.05)\n",
    "            \n",
    "ax=plt.subplot(1,2,2)\n",
    "plt.boxplot(np.append(GA_MeanTr_pm, GA_MeanRot_pm, axis=1))\n",
    "for i, j, k in zip(range(1, 7), np.append(GA_MeanTr_pm, GA_MeanRot_pm, axis=1).T, ['tx', 'ty', 'tz', 'Rx', 'Ry', 'Rz']):\n",
    "    plt.plot(np.ones(len(j))*i, j, 'o', c=colors[i-1], label=k, ms=4)\n",
    "plt.ylabel('Mean translation / rotation [mm / °]')\n",
    "plt.xticks([1,2,3,4,5,6], ['$t_x$', '$t_y$', '$t_z$', '$R_x$', '$R_y$', '$R_z$'])\n",
    "plt.title('Patients with GA')\n",
    "bars = np.array([1,2,3,4,5,6])\n",
    "heights = np.append(np.amax(GA_MeanTr_pm, axis=0), np.amax(GA_MeanRot_pm, axis=0))\n",
    "cnt1, cnt2 = 0,0\n",
    "dh=[.3, .2, .3]\n",
    "for i,a_,b_ in zip(range(0,6),a,b):\n",
    "    if starstar[i]==True:\n",
    "        barplot_annotate_brackets(a_, b_, '**', bars, heights, dh=dh[cnt1])\n",
    "        cnt1+=1\n",
    "    else:\n",
    "        if star[i]==True:\n",
    "            barplot_annotate_brackets(a_, b_, '*', bars, heights, dh=dh[cnt2])\n",
    "            cnt2+=1\n",
    "lim = ax.get_ylim()\n",
    "plt.ylim(lim[0],(lim[1])*1.05)\n",
    "plt.subplots_adjust(wspace=0.25)\n",
    "plt.savefig(folder+'Plots/Transf_Decomposition.png', dpi=200, bbox_inches='tight')\n",
    "plt.show()"
   ]
  },
  {
   "cell_type": "code",
   "execution_count": null,
   "metadata": {},
   "outputs": [],
   "source": []
  },
  {
   "cell_type": "markdown",
   "metadata": {},
   "source": [
    "### Motion on axes:"
   ]
  },
  {
   "cell_type": "code",
   "execution_count": null,
   "metadata": {
    "scrolled": true
   },
   "outputs": [],
   "source": [
    "p_cor = p_values_cor[16:80]\n",
    "star = p_cor < 0.05\n",
    "starstar = p_cor < 0.001\n",
    "\n",
    "maxlim = 35\n",
    "medlim = 5\n",
    "avglim = 5"
   ]
  },
  {
   "cell_type": "code",
   "execution_count": null,
   "metadata": {
    "scrolled": true
   },
   "outputs": [],
   "source": [
    "data1s = [noGA_medianx, GA_medianx]\n",
    "data2s = [noGA_mediany, GA_mediany]\n",
    "data3s = [noGA_medianz, GA_medianz]\n",
    "GAInfo = ['without GA', 'with GA']\n",
    "bars = np.arange(1, 13, 1)\n",
    "heights_nGA_ = np.amax(noGA_medianz, axis=0)\n",
    "heights_nGA=[]\n",
    "for h in heights_nGA_:\n",
    "    heights_nGA.append(h)\n",
    "    heights_nGA.append(h)\n",
    "    heights_nGA.append(h)\n",
    "heights_GA_ = np.amax(GA_medianz, axis=0)\n",
    "heights_GA=[]\n",
    "for h in heights_GA_:\n",
    "    heights_GA.append(h)\n",
    "    heights_GA.append(h)\n",
    "    heights_GA.append(h)\n",
    "heights = [heights_nGA, heights_GA]\n",
    "const = [2,0]\n",
    "\n",
    "plt.figure(figsize=(15,18))\n",
    "nr=1\n",
    "for data1, data2, data3, ga, h, c in zip(data1s, data2s, data3s, GAInfo, heights, const):\n",
    "    title = \"Patients \"+ga+\", subcortical regions\"\n",
    "    MakeSubPlot(np.array(data1), np.array(data2), np.array(data3),\"x\",\"y\",\"z\",title,medlim+1.5,0,4,nr,1)\n",
    "    for i,a in zip(np.array([0,4,8,12])+c, [0,3,6,9]):\n",
    "        if starstar[i]==True:\n",
    "            barplot_annotate_brackets(a, a+2, '**', bars, h, dh=0.2)\n",
    "        else:\n",
    "            if star[i]==True:\n",
    "                barplot_annotate_brackets(a, a+2, '*', bars, h, dh=0.2)\n",
    "        if starstar[i+1]==True:\n",
    "            barplot_annotate_brackets(a+1, a+2, '**', bars, h, dh=0.1)\n",
    "        else:\n",
    "            if star[i+1]==True:\n",
    "                barplot_annotate_brackets(a+1, a+2, '*', bars, h, dh=0.1)\n",
    "    nr+=1\n",
    "    title = \"Patients \"+ga+\", cortical regions\"\n",
    "    MakeSubPlot(np.array(data1), np.array(data2), np.array(data3),\"x\",\"y\",\"z\",title,medlim+1.5,8,12,nr)\n",
    "    for i,a in zip(np.array([32,36,40,44])+c, [0,3,6,9]):\n",
    "        if starstar[i]==True:\n",
    "            barplot_annotate_brackets(a, a+2, '**', bars, h[24:], dh=0.2)\n",
    "        else:\n",
    "            if star[i]==True:\n",
    "                barplot_annotate_brackets(a, a+2, '*', bars, h[24:], dh=0.2)\n",
    "        if starstar[i+1]==True:\n",
    "            barplot_annotate_brackets(a+1, a+2, '**', bars, h[24:], dh=0.1)\n",
    "        else:\n",
    "            if star[i+1]==True:\n",
    "                barplot_annotate_brackets(a+1, a+2, '*', bars, h[24:], dh=0.1)\n",
    "    \n",
    "    nr+=1\n",
    "plt.subplots_adjust(hspace=0.4, wspace=0.35)\n",
    "plt.savefig(folder+'Plots/MotionOnAxes.png', dpi=200, bbox_inches='tight')\n",
    "plt.savefig(folder+'Plots/MotionOnAxes.eps', dpi=200, bbox_inches='tight')\n",
    "plt.show()"
   ]
  },
  {
   "cell_type": "code",
   "execution_count": null,
   "metadata": {},
   "outputs": [],
   "source": [
    "data1s = [noGA_medianx, GA_medianx]\n",
    "data2s = [noGA_mediany, GA_mediany]\n",
    "data3s = [noGA_medianz, GA_medianz]\n",
    "GAInfo = ['without GA', 'with GA']\n",
    "bars = np.arange(1, 13, 1)\n",
    "heights_nGA_ = np.amax(noGA_medianz, axis=0)\n",
    "heights_nGA=[]\n",
    "for h in heights_nGA_:\n",
    "    heights_nGA.append(h)\n",
    "    heights_nGA.append(h)\n",
    "    heights_nGA.append(h)\n",
    "heights_GA_ = np.amax(GA_medianz, axis=0)\n",
    "heights_GA=[]\n",
    "for h in heights_GA_:\n",
    "    heights_GA.append(h)\n",
    "    heights_GA.append(h)\n",
    "    heights_GA.append(h)\n",
    "heights = [heights_nGA, heights_GA]\n",
    "const = [2,0]\n",
    "\n",
    "plt.figure(figsize=(15,18))\n",
    "nr=1\n",
    "for data1, data2, data3, ga, h, c in zip(data1s, data2s, data3s, GAInfo, heights, const):\n",
    "    title = \"Patients \"+ga+\", subcortical regions\"\n",
    "    MakeSubPlot(np.array(data1), np.array(data2), np.array(data3),\"x\",\"y\",\"z\",title,medlim+1.5,4,8,nr,1)\n",
    "    for i,a in zip(np.array([16,20,24,28])+c, [0,3,6,9]):\n",
    "        if starstar[i]==True:\n",
    "            barplot_annotate_brackets(a, a+2, '**', bars, h[12:], dh=0.2)\n",
    "        else:\n",
    "            if star[i]==True:\n",
    "                barplot_annotate_brackets(a, a+2, '*', bars, h[12:], dh=0.2)\n",
    "        if starstar[i+1]==True:\n",
    "            barplot_annotate_brackets(a+1, a+2, '**', bars, h[12:], dh=0.1)\n",
    "        else:\n",
    "            if star[i+1]==True:\n",
    "                barplot_annotate_brackets(a+1, a+2, '*', bars, h[12:], dh=0.1)\n",
    "    nr+=1\n",
    "    title = \"Patients \"+ga+\", cortical regions\"\n",
    "    MakeSubPlot(np.array(data1), np.array(data2), np.array(data3),\"x\",\"y\",\"z\",title,medlim+1.5,12,16,nr)\n",
    "    for i,a in zip(np.array([48,52,56,60])+c, [0,3,6,9]):\n",
    "        if starstar[i]==True:\n",
    "            barplot_annotate_brackets(a, a+2, '**', bars, h[36:], dh=0.2)\n",
    "        else:\n",
    "            if star[i]==True:\n",
    "                barplot_annotate_brackets(a, a+2, '*', bars, h[36:], dh=0.2)\n",
    "        if starstar[i+1]==True:\n",
    "            barplot_annotate_brackets(a+1, a+2, '**', bars, h[36:], dh=0.1)\n",
    "        else:\n",
    "            if star[i+1]==True:\n",
    "                barplot_annotate_brackets(a+1, a+2, '*', bars, h[36:], dh=0.1)\n",
    "    nr+=1\n",
    "plt.subplots_adjust(hspace=0.4, wspace=0.35)\n",
    "plt.savefig(folder+'Plots/App_MotionOnAxes.png', dpi=200, bbox_inches='tight')\n",
    "plt.savefig(folder+'Plots/App_MotionOnAxes.eps', dpi=200, bbox_inches='tight')\n",
    "plt.show()"
   ]
  },
  {
   "cell_type": "code",
   "execution_count": null,
   "metadata": {},
   "outputs": [],
   "source": []
  },
  {
   "cell_type": "markdown",
   "metadata": {},
   "source": [
    "### Metrics for each region:"
   ]
  },
  {
   "cell_type": "code",
   "execution_count": null,
   "metadata": {
    "scrolled": true
   },
   "outputs": [],
   "source": [
    "p_cor = p_values_cor[80:]\n",
    "print(tests[80:])\n",
    "star = p_cor < 0.05\n",
    "starstar = p_cor < 0.001\n",
    "print(p_cor, star, starstar)"
   ]
  },
  {
   "cell_type": "code",
   "execution_count": null,
   "metadata": {},
   "outputs": [],
   "source": [
    "t = tests[80:]\n",
    "for i, a in zip(np.arange(32, 64, 4), np.arange(0,17,2)):\n",
    "    print(t[i],a)"
   ]
  },
  {
   "cell_type": "code",
   "execution_count": null,
   "metadata": {
    "scrolled": false
   },
   "outputs": [],
   "source": [
    "mflim = 120\n",
    "maxlim = 22\n",
    "\n",
    "bars = np.arange(1, 17, 1)\n",
    "\n",
    "# max\n",
    "heights_ = np.amax(noGA_maxFile, axis=0)\n",
    "heights=[]\n",
    "for h in heights_:\n",
    "    heights.append(h)\n",
    "    heights.append(h)\n",
    "plt.figure(figsize=(15,9))\n",
    "plt.subplot(2,1,1)\n",
    "makePlotCh(np.array(GA_maxFile)[:,:8],np.array(noGA_maxFile)[:,:8],\"GA\",\"No GA\",\"Subcortical regions\",maxlim,1)\n",
    "for i, a in zip(np.arange(0, 29, 4), np.arange(0,17,2)):\n",
    "    if starstar[i]==True:\n",
    "        barplot_annotate_brackets(a, a+1, '**', bars, heights, dh=0.1)\n",
    "    else:\n",
    "        if star[i]==True:\n",
    "            barplot_annotate_brackets(a, a+1, '*', bars, heights, dh=0.1)\n",
    "plt.subplot(2,1,2)\n",
    "makePlotCh(np.array(GA_maxFile)[:,8:],np.array(noGA_maxFile)[:,8:],\"GA\",\"No GA\",\"Cortical regions\",maxlim, leg=True)\n",
    "for i, a in zip(np.arange(32, 64, 4), np.arange(0,17,2)):\n",
    "    if starstar[i]==True:\n",
    "        barplot_annotate_brackets(a, a+1, '**', bars, heights[16:], dh=0.1)\n",
    "    else:\n",
    "        if star[i]==True:\n",
    "            barplot_annotate_brackets(a, a+1, '*', bars, heights[16:], dh=0.1)\n",
    "plt.subplots_adjust(hspace=0.4, wspace=0.35)\n",
    "plt.savefig(folder+'Plots/App_MaxRegions.png', dpi=200, bbox_inches='tight')\n",
    "plt.show()\n",
    "\n",
    "# median\n",
    "heights_ = np.amax(noGA_medianFile, axis=0)\n",
    "heights=[]\n",
    "for h in heights_:\n",
    "    heights.append(h)\n",
    "    heights.append(h)\n",
    "plt.figure(figsize=(15,9))\n",
    "plt.subplot(2,1,1)\n",
    "makePlotCh(np.array(GA_medianFile)[:,:8],np.array(noGA_medianFile)[:,:8],\"GA\",\"No GA\",\"Subcortical regions\",medlim+1.7,1)\n",
    "for i, a in zip(np.arange(1, 30, 4), np.arange(0,17,2)):\n",
    "    if starstar[i]==True:\n",
    "        barplot_annotate_brackets(a, a+1, '**', bars, heights, dh=0.1)\n",
    "    else:\n",
    "        if star[i]==True:\n",
    "            barplot_annotate_brackets(a, a+1, '*', bars, heights, dh=0.1)\n",
    "plt.subplot(2,1,2)\n",
    "makePlotCh(np.array(GA_medianFile)[:,8:],np.array(noGA_medianFile)[:,8:],\"GA\",\"No GA\",\"Cortical regions\",medlim+1.7,leg=True)\n",
    "for i, a in zip(np.arange(33, 65, 4), np.arange(0,17,2)):\n",
    "    if starstar[i]==True:\n",
    "        barplot_annotate_brackets(a, a+1, '**', bars, heights[16:], dh=0.1)\n",
    "    else:\n",
    "        if star[i]==True:\n",
    "            barplot_annotate_brackets(a, a+1, '*', bars, heights[16:], dh=0.1)\n",
    "plt.subplots_adjust(hspace=0.4, wspace=0.35)\n",
    "plt.savefig(folder+'Plots/App_MedianRegions.png', dpi=200, bbox_inches='tight')\n",
    "plt.show()\n",
    "\n",
    "# average\n",
    "heights_ = np.amax(noGA_avgFile, axis=0)\n",
    "heights=[]\n",
    "for h in heights_:\n",
    "    heights.append(h)\n",
    "    heights.append(h)\n",
    "plt.figure(figsize=(15,9))\n",
    "plt.subplot(2,1,1)\n",
    "makePlotCh(np.array(GA_avgFile)[:,:8],np.array(noGA_avgFile)[:,:8],\"GA\",\"No GA\",\"Subcortical regions\",avglim,1)\n",
    "for i, a in zip(np.arange(2, 31, 4), np.arange(0,17,2)):\n",
    "    if starstar[i]==True:\n",
    "        barplot_annotate_brackets(a, a+1, '**', bars, heights, dh=0.1)\n",
    "    else:\n",
    "        if star[i]==True:\n",
    "            barplot_annotate_brackets(a, a+1, '*', bars, heights, dh=0.1)\n",
    "plt.subplot(2,1,2)\n",
    "makePlotCh(np.array(GA_avgFile)[:,8:],np.array(noGA_avgFile)[:,8:],\"GA\",\"No GA\",\"Cortical regions\",avglim, leg=True)\n",
    "for i, a in zip(np.arange(34, 66, 4), np.arange(0,17,2)):\n",
    "    if starstar[i]==True:\n",
    "        barplot_annotate_brackets(a, a+1, '**', bars, heights[16:], dh=0.1)\n",
    "    else:\n",
    "        if star[i]==True:\n",
    "            barplot_annotate_brackets(a, a+1, '*', bars, heights[16:], dh=0.1)\n",
    "plt.subplots_adjust(hspace=0.4, wspace=0.35)\n",
    "plt.savefig(folder+'Plots/App_AvgRegions.png', dpi=200, bbox_inches='tight')\n",
    "plt.show()\n",
    "\n",
    "# motionfree time\n",
    "heights_ = np.amax(noGA_motionfreeFile, axis=0)\n",
    "heights=[]\n",
    "for h in heights_:\n",
    "    heights.append(h)\n",
    "    heights.append(h)\n",
    "plt.figure(figsize=(15,9))\n",
    "plt.subplot(2,1,1)\n",
    "makePlotCh(np.array(GA_motionfreeFile)[:,:8],np.array(noGA_motionfreeFile)[:,:8],\"GA\",\"No GA\",\"Subcortical regions\",mflim+15,1, lab_mf=True)\n",
    "for i, a in zip(np.arange(3, 32, 4), np.arange(0,17,2)):\n",
    "    if starstar[i]==True:\n",
    "        barplot_annotate_brackets(a, a+1, '**', bars, heights, dh=0.1)\n",
    "    else:\n",
    "        if star[i]==True:\n",
    "            barplot_annotate_brackets(a, a+1, '*', bars, heights, dh=0.1)\n",
    "plt.subplot(2,1,2)\n",
    "makePlotCh(np.array(GA_motionfreeFile)[:,8:],np.array(noGA_motionfreeFile)[:,8:],\"GA\",\"No GA\",\"Cortical regions\",mflim+15, lab_mf=True, leg=True)\n",
    "for i, a in zip(np.arange(35, 67, 4), np.arange(0,17,2)):\n",
    "    if starstar[i]==True:\n",
    "        barplot_annotate_brackets(a, a+1, '**', bars, heights[16:], dh=0.1)\n",
    "    else:\n",
    "        if star[i]==True:\n",
    "            barplot_annotate_brackets(a, a+1, '*', bars, heights[16:], dh=0.1)\n",
    "plt.subplots_adjust(hspace=0.4, wspace=0.35)\n",
    "plt.savefig(folder+'Plots/App_MotionfreeRegions.png', dpi=200, bbox_inches='tight')\n",
    "plt.show()"
   ]
  },
  {
   "cell_type": "code",
   "execution_count": null,
   "metadata": {},
   "outputs": [],
   "source": []
  },
  {
   "cell_type": "markdown",
   "metadata": {},
   "source": [
    "# 7. Scores:"
   ]
  },
  {
   "cell_type": "code",
   "execution_count": null,
   "metadata": {},
   "outputs": [],
   "source": [
    "score=[]\n",
    "for pat in noGA_patients:\n",
    "    print(pat)\n",
    "    find = glob.glob('/mnt/mocodata1/BUF/DataMMR/'+pat+'/PETMR*/Score.csv')\n",
    "    if len(find)>0:\n",
    "        with open(find[0] ,'r') as mat:\n",
    "            lines = mat.read().splitlines()\n",
    "            for l in lines[1:]:\n",
    "                print(l[-14:-13])\n",
    "                score.append(l[-14:-13])\n",
    "score = np.array(score, dtype=int)"
   ]
  },
  {
   "cell_type": "code",
   "execution_count": null,
   "metadata": {},
   "outputs": [],
   "source": [
    "print(len(np.where(score==1)[0])/len(score))\n",
    "print(len(np.where(score==2)[0])/len(score))\n",
    "print(len(np.where(score==3)[0])/len(score))\n",
    "\n",
    "print(len(np.where(score==1)[0]))\n",
    "print(len(np.where(score==2)[0]))\n",
    "print(len(score))"
   ]
  },
  {
   "cell_type": "code",
   "execution_count": null,
   "metadata": {
    "scrolled": true
   },
   "outputs": [],
   "source": []
  },
  {
   "cell_type": "markdown",
   "metadata": {},
   "source": [
    "# 8. Plot the whole motion curves for centroid of GA and no GA patients:"
   ]
  },
  {
   "cell_type": "code",
   "execution_count": null,
   "metadata": {
    "scrolled": true
   },
   "outputs": [],
   "source": [
    "'''# extract the whole curves for GA patients:\n",
    "allx = []\n",
    "ally = []\n",
    "allz = []\n",
    "for sub in GA:\n",
    "    centr = np.loadtxt(folder+'GA/centroids '+sub+'.out')\n",
    "    filenames = os.listdir(folder+'GA/matrices '+sub)\n",
    "    pcl_centr = PClCentroid(sub)\n",
    "    x = []\n",
    "    y = []\n",
    "    z = []\n",
    "    for file in filenames:\n",
    "        mat = scipy.io.loadmat(folder+'GA/matrices '+sub+'/'+file)\n",
    "        if \"ref\" not in file:\n",
    "            transf = mat[\"matrix\"]\n",
    "            ec = np.append(pcl_centr,1)\n",
    "            newCentroid = np.dot(transf, ec)\n",
    "            x.append((ec[0]-newCentroid[0]))\n",
    "            y.append((ec[1]-newCentroid[1]))\n",
    "            z.append((ec[2]-newCentroid[2]))\n",
    "        \n",
    "    allx.append(x)\n",
    "    ally.append(y)\n",
    "    allz.append(z)\n",
    "    \n",
    "count = 0\n",
    "for sub in GA:\n",
    "    np.savetxt(folder+'GA axis/whole_xREF '+sub+'.out', np.array(allx[count]))\n",
    "    np.savetxt(folder+'GA axis/whole_yREF '+sub+'.out', np.array(ally[count]))\n",
    "    np.savetxt(folder+'GA axis/whole_zREF '+sub+'.out', np.array(allz[count]))\n",
    "    count+=1'''"
   ]
  },
  {
   "cell_type": "code",
   "execution_count": null,
   "metadata": {
    "scrolled": true
   },
   "outputs": [],
   "source": [
    "'''# extract the whole curves for noGA patients:\n",
    "allx = []\n",
    "ally = []\n",
    "allz = []\n",
    "for sub in no_GA:\n",
    "    centr = np.loadtxt(folder+'No GA/centroids '+sub+'.out')\n",
    "    filenames = os.listdir(folder+'No GA/matrices '+sub)\n",
    "    pcl_centr = PClCentroid(sub)\n",
    "    x = []\n",
    "    y = []\n",
    "    z = []\n",
    "    for file in filenames:\n",
    "        mat = scipy.io.loadmat(folder+'No GA/matrices '+sub+'/'+file)\n",
    "        if \"ref\" not in file:\n",
    "            transf = mat[\"matrix\"]\n",
    "            ec = np.append(pcl_centr,1)\n",
    "            newCentroid = np.dot(transf, ec)\n",
    "            x.append((ec[0]-newCentroid[0]))\n",
    "            y.append((ec[1]-newCentroid[1]))\n",
    "            z.append((ec[2]-newCentroid[2]))\n",
    "        \n",
    "    allx.append(x)\n",
    "    ally.append(y)\n",
    "    allz.append(z)\n",
    "    \n",
    "count = 0\n",
    "for sub in no_GA:\n",
    "    np.savetxt(folder+'No GA axis/whole_xREF '+sub+'.out', np.array(allx[count]))\n",
    "    np.savetxt(folder+'No GA axis/whole_yREF '+sub+'.out', np.array(ally[count]))\n",
    "    np.savetxt(folder+'No GA axis/whole_zREF '+sub+'.out', np.array(allz[count]))\n",
    "    count+=1'''"
   ]
  },
  {
   "cell_type": "code",
   "execution_count": null,
   "metadata": {
    "scrolled": true
   },
   "outputs": [],
   "source": [
    "noGA_medianx = []\n",
    "noGA_mediany = []\n",
    "noGA_medianz = []\n",
    "noGA_allx = []\n",
    "noGA_ally = []\n",
    "noGA_allz = []\n",
    "for sub in no_GA:\n",
    "    xx = []\n",
    "    yy = []\n",
    "    zz = []\n",
    "    print(sub)\n",
    "    x = abs(np.loadtxt(folder+'No GA axis/whole_xREF '+sub+'.out'))\n",
    "    y = abs(np.loadtxt(folder+'No GA axis/whole_yREF '+sub+'.out'))\n",
    "    z = abs(np.loadtxt(folder+'No GA axis/whole_zREF '+sub+'.out'))\n",
    "    change = False            \n",
    "            \n",
    "    if change == True:\n",
    "        x = xx\n",
    "        y = yy\n",
    "        z = zz\n",
    "        print(\"change\")\n",
    "    noGA_allx.append(x)\n",
    "    noGA_ally.append(y)\n",
    "    noGA_allz.append(z)\n",
    "    mex = np.median(np.around(np.array(x), decimals=2)).tolist()\n",
    "    mey = np.median(np.around(np.array(y), decimals=2)).tolist()\n",
    "    mez = np.median(np.around(np.array(z), decimals=2)).tolist()\n",
    "\n",
    "    noGA_medianx.append(mex)\n",
    "    noGA_mediany.append(mey)\n",
    "    noGA_medianz.append(mez)"
   ]
  },
  {
   "cell_type": "code",
   "execution_count": null,
   "metadata": {
    "scrolled": true
   },
   "outputs": [],
   "source": [
    "GA_medianx = []\n",
    "GA_mediany = []\n",
    "GA_medianz = []\n",
    "GA_allx = []\n",
    "GA_ally = []\n",
    "GA_allz = []\n",
    "a = 0\n",
    "for sub in GA:\n",
    "    xx = []\n",
    "    yy = []\n",
    "    zz = []\n",
    "    print(sub)\n",
    "    x = abs(np.loadtxt(folder+'GA axis/whole_xREF '+sub+'.out'))\n",
    "    y = abs(np.loadtxt(folder+'GA axis/whole_yREF '+sub+'.out'))\n",
    "    z = abs(np.loadtxt(folder+'GA axis/whole_zREF '+sub+'.out'))\n",
    "\n",
    "    change = False\n",
    "\n",
    "    if change == True:\n",
    "        x = xx\n",
    "        y = yy\n",
    "        z = zz\n",
    "        print(\"change\")\n",
    "    GA_allx.append(x)\n",
    "    GA_ally.append(y)\n",
    "    GA_allz.append(z)\n",
    "    mex = np.median(np.around(np.array(x), decimals=2)).tolist()\n",
    "    mey = np.median(np.around(np.array(y), decimals=2)).tolist()\n",
    "    mez = np.median(np.around(np.array(z), decimals=2)).tolist()\n",
    "\n",
    "    GA_medianx.append(mex)\n",
    "    GA_mediany.append(mey)\n",
    "    GA_medianz.append(mez)\n",
    "    a+=1"
   ]
  },
  {
   "cell_type": "code",
   "execution_count": null,
   "metadata": {
    "scrolled": true
   },
   "outputs": [],
   "source": [
    "for sub in range(len(GA)):\n",
    "    plt.plot(GA_allx[sub], 'tab:blue', label='x')\n",
    "    plt.plot(GA_ally[sub], 'tab:green', label='y')\n",
    "    plt.plot(GA_allz[sub], 'tab:orange', label='z')\n",
    "    plt.legend()\n",
    "    plt.title(GA[sub]+'  '+str(sub))\n",
    "    plt.xlabel('Frame Number')\n",
    "    plt.ylabel('Displacement [mm]')\n",
    "    plt.show()"
   ]
  },
  {
   "cell_type": "code",
   "execution_count": null,
   "metadata": {},
   "outputs": [],
   "source": [
    "for sub in range(len(no_GA)):\n",
    "    plt.plot(noGA_allx[sub], 'tab:blue', label='x')\n",
    "    plt.plot(noGA_ally[sub], 'tab:green', label='y')\n",
    "    plt.plot(noGA_allz[sub], 'tab:orange', label='z')\n",
    "    plt.legend()\n",
    "    plt.title(no_GA[sub]+'  '+str(sub))\n",
    "    plt.xlabel('Frame Number')\n",
    "    plt.ylabel('Displacement [mm]')\n",
    "    plt.show()"
   ]
  },
  {
   "cell_type": "markdown",
   "metadata": {},
   "source": [
    "choose GA subject 11 2016_09_30_AMRH and no GA subject 31 2017_09_05_NSH for representative curve"
   ]
  },
  {
   "cell_type": "code",
   "execution_count": null,
   "metadata": {
    "scrolled": true
   },
   "outputs": [],
   "source": [
    "tmp, _, t1, t2 = StartEndFrameNr2('2016-09-30_AMRH', Scan_Times)\n",
    "tmp, _, t3, t4 = StartEndFrameNr2('2017-02-14_SLA', Scan_Times)\n",
    "print(t1, t2, t3, t4)\n"
   ]
  },
  {
   "cell_type": "code",
   "execution_count": null,
   "metadata": {},
   "outputs": [],
   "source": [
    "x1_ = os.listdir(folder+'No GA/matrices 2017-02-14_SLA/')\n",
    "x1=[]\n",
    "for x in x1_:\n",
    "    x1.append(int(x[2:-4]))\n",
    "x2_ = os.listdir(folder+'GA/matrices 2016-09-30_AMRH/')\n",
    "x2=[]\n",
    "for x in x2_:\n",
    "    x2.append(int(x[2:-4]))"
   ]
  },
  {
   "cell_type": "code",
   "execution_count": null,
   "metadata": {},
   "outputs": [],
   "source": [
    "plt.figure(figsize=(12,7))\n",
    "plt.subplot(2,1,1)\n",
    "for a, b in zip(t3, t4):\n",
    "    print(a,b)\n",
    "    plt.axvspan(a, b, alpha=0.3, facecolor='tab:gray', edgecolor='white')\n",
    "plt.plot(x1, noGA_allx[25], 'tab:blue', label='x')\n",
    "plt.plot(x1, noGA_ally[25], 'tab:green', label='y')\n",
    "plt.plot(x1, noGA_allz[25], 'tab:orange', label='z')\n",
    "#plt.legend()\n",
    "plt.title('Patient without GA')\n",
    "plt.xlabel('Frame Number')\n",
    "plt.ylabel('Displacement [mm]')\n",
    "plt.subplot(2,1,2)\n",
    "for a, b in zip(t1, t2):\n",
    "    print(a,b)\n",
    "    plt.axvspan(a, b, alpha=0.3, facecolor='tab:gray', edgecolor='white')\n",
    "plt.plot(x2, GA_allx[11], 'tab:blue', label='x')\n",
    "plt.plot(x2, GA_ally[11], 'tab:green', label='y')\n",
    "plt.plot(x2, GA_allz[11], 'tab:orange', label='z')\n",
    "plt.legend(bbox_to_anchor=(1.03,1.5), loc='upper left', borderaxespad=0.)\n",
    "plt.title('Patient with GA')\n",
    "plt.xlabel('Frame Number')\n",
    "plt.ylabel('Displacement [mm]')\n",
    "plt.ylim(0,8)\n",
    "plt.subplots_adjust(hspace=0.6)\n",
    "plt.savefig(folder+'Plots/Exempl_Motion.png', dpi=200, bbox_inches='tight')\n",
    "plt.show()"
   ]
  },
  {
   "cell_type": "code",
   "execution_count": null,
   "metadata": {},
   "outputs": [],
   "source": []
  },
  {
   "cell_type": "markdown",
   "metadata": {},
   "source": [
    "# 9. Look at scan times:"
   ]
  },
  {
   "cell_type": "code",
   "execution_count": null,
   "metadata": {},
   "outputs": [],
   "source": [
    "def StrToTime(float):\n",
    "    return datetime.datetime.strptime(float, '%H%M%S.%f')\n",
    "\n",
    "def SubstrTimes(time1, time2):\n",
    "    diff = StrToTime(time1)-StrToTime(time2)\n",
    "    return diff.total_seconds()"
   ]
  },
  {
   "cell_type": "code",
   "execution_count": null,
   "metadata": {},
   "outputs": [],
   "source": [
    "# find wall times in minutes / beginning of first MR scan to end of last MR scan\n",
    "wall_times = []\n",
    "all_subj = [j for i in zip(GA, no_GA) for j in i]\n",
    "for s in all_subj:\n",
    "    lines = Scan_Times[Scan_Times[:,0]==s]\n",
    "    lines = lines[:,2:].astype(float)\n",
    "    minim = np.amin(lines)\n",
    "    maxim = np.amax(lines)\n",
    "    wall_times.append(SubstrTimes(str(maxim), str(minim))/60)\n",
    "\n",
    "print(wall_times)\n",
    "print('')\n",
    "print('Wall times: Median +- std: ', np.median(wall_times), np.std(wall_times))"
   ]
  },
  {
   "cell_type": "code",
   "execution_count": null,
   "metadata": {},
   "outputs": [],
   "source": [
    "# find total MR/PET protocol duration:\n",
    "dur = []\n",
    "for s in all_subj:\n",
    "    sequ = glob.glob('/mnt/mocodata1/BUF/DataMMR/'+s+'/*/*')\n",
    "    times = []\n",
    "    for seq in sequ:\n",
    "        if 'Score.csv' not in seq and 'Summary.csv' not in seq:\n",
    "            #print(seq)\n",
    "            dcm = os.listdir(seq+'/')[0] \n",
    "            try:\n",
    "                times.append(getAcqTimeFromDICOM(seq+'/'+dcm))\n",
    "            except Exception:\n",
    "                pass\n",
    "    times = np.array(times).astype(float)\n",
    "    minim = np.amin(times)\n",
    "    maxim = np.amax(times)\n",
    "    dur.append(SubstrTimes(str(maxim), str(minim)))\n",
    "    \n",
    "print(dur)"
   ]
  },
  {
   "cell_type": "code",
   "execution_count": null,
   "metadata": {},
   "outputs": [],
   "source": [
    "print(np.amin(dur), np.amax(dur))\n",
    "print(np.amin(dur)/60, np.amax(dur)/60)\n",
    "# exclude 2017-03-28_NPN because long pauses in between\n",
    "test = np.append(dur[:-2], dur[-1])\n",
    "print(np.amin(test), np.amax(test))\n",
    "print(np.amin(test)/60, np.amax(test)/60)\n"
   ]
  },
  {
   "cell_type": "code",
   "execution_count": null,
   "metadata": {},
   "outputs": [],
   "source": []
  },
  {
   "cell_type": "markdown",
   "metadata": {},
   "source": [
    "# Analysis for excluded children:"
   ]
  },
  {
   "cell_type": "code",
   "execution_count": null,
   "metadata": {},
   "outputs": [],
   "source": [
    "# get all excluded subjects:\n",
    "subjs = ['2015-04-14_NJ', '2015-04-24_NJ', '2015-05-05_SB', '2015-05-08_ADS', '2015-05-26_PN', '2015-11-03_ELV', '2015-11-13_PL', '2016-01-05_JJW', '2016-02-26_FLTH', '2016-03-11_MBH', '2016-04-01_NLL', '2016-05-03_HF', '2016-05-03_MBH', '2016-05-24_RGR2', '2016-07-08_JK', '2016-08-02_JJ', '2016-10-19_BA', '2016-12-16_OKR', '2017-01-24_JD', '2017-02-24_HGSF', '2017-03-03_BA', '2017-04-21_ATWJ', '2017-05-05_AJ', '2017-05-19_FSH', '2017-08-22_SB', '2017-08-29_SEKB', '2017-09-01_MK', '2017-10-10_SB', '2017-11-03_VWN', '2017-11-28_ToM', '2015-11-10_BSA']\n",
    "print(len(subjs))"
   ]
  },
  {
   "cell_type": "code",
   "execution_count": null,
   "metadata": {},
   "outputs": [],
   "source": [
    "# go through GA list and sort subjs:\n",
    "GA = ['2015-04-14_NJ', '2015-04-24_NJ',  '2015-05-05_SB',  '2016-07-08_JK',  '2016-10-19_BA',  '2017-02-24_HGSF', '2017-03-03_BA', '2017-04-21_ATWJ', '2017-05-05_AJ', '2017-09-01_MK', '2015-05-08_ADS']\n",
    "no_GA = ['2015-11-10_BSA', '2017-11-28_ToM', '2015-05-26_PN', '2015-11-03_ELV', '2015-11-13_PL', '2016-02-26_FLTH', '2016-03-11_MBH',  '2016-04-01_NLL', '2016-05-03_MBH',  '2017-01-24_JD', '2017-05-19_FSH', '2017-08-22_SB', '2017-08-29_SEKB', '2017-10-10_SB', '2016-05-03_HF', '2016-08-02_JJ', '2017-11-03_VWN']"
   ]
  },
  {
   "cell_type": "code",
   "execution_count": null,
   "metadata": {},
   "outputs": [],
   "source": [
    "Scan_Times = np.loadtxt(folder+'Scan_Times_Excl.txt', dtype=str, delimiter=', ', skiprows=1)"
   ]
  },
  {
   "cell_type": "code",
   "execution_count": null,
   "metadata": {},
   "outputs": [],
   "source": [
    "''''''#save to file GA info / point cloud centroid added to centroids \n",
    "for sub in GA:\n",
    "    print(sub)\n",
    "    pcl_centr = PClCentroid(sub)\n",
    "    print('PointCloud centroid: ', pcl_centr)\n",
    "    c = [pcl_centr] #np.append(c_, [pcl_centr], axis=0)\n",
    "    np.savetxt(folder+'GA_Excl/centroids '+sub+'.out', np.array(c))\n",
    "    mat_files = StartEndFrameNr([sub], Scan_Times, folder+'GA_Excl/')\n",
    "    h = computeHistograms2(mat_files,c)\n",
    "    np.savetxt(folder+'GA_Excl/histogramREF '+sub+'.out', np.array(h))'''"
   ]
  },
  {
   "cell_type": "code",
   "execution_count": null,
   "metadata": {},
   "outputs": [],
   "source": [
    "# load GA centroids and motion data ('histogram'):\n",
    "GA_centr_PCl = []\n",
    "GA_max_PCl = []\n",
    "GA_avg_PCl = []\n",
    "GA_median_PCl = []\n",
    "GA_patients = []\n",
    "GA_motionfree_PCl = []\n",
    "idx = 0\n",
    "idxs = []\n",
    "hGA = []\n",
    "for sub in GA:\n",
    "    print(sub)\n",
    "    c = np.loadtxt(folder+'GA_Excl/centroids '+sub+'.out')\n",
    "    h = np.loadtxt(folder+'GA_Excl/histogramREF '+sub+'.out')\n",
    "    h1  = []\n",
    "    modified = False\n",
    "    if not modified :\n",
    "        h1 = h\n",
    "        print(\"do not change\")\n",
    "    else:\n",
    "        print(\"change\")\n",
    "    npH1 = np.array(h1)\n",
    "    hGA.append(h1)\n",
    "    ma = np.amax(npH1).tolist()\n",
    "    me = np.median(np.around(npH1, decimals=2)).tolist()\n",
    "    avg = np.average(npH1).tolist()\n",
    "    mp = []\n",
    "    for his in [h1]:\n",
    "        mp.append(np.array(np.where( np.array(abs(his-his[0])) <2 )).shape[1]*100/len(his))\n",
    "    \n",
    "    print(mp)\n",
    "    GA_motionfree_PCl.append(mp)\n",
    "    GA_centr_PCl.append(c)\n",
    "    GA_max_PCl.append(ma)\n",
    "    GA_avg_PCl.append(avg)\n",
    "    GA_median_PCl.append(me)  \n",
    "    GA_patients.append(sub)\n",
    "    "
   ]
  },
  {
   "cell_type": "markdown",
   "metadata": {},
   "source": [
    "Look at all motion data to make sure that imported correctly:"
   ]
  },
  {
   "cell_type": "code",
   "execution_count": null,
   "metadata": {},
   "outputs": [],
   "source": [
    "for data, pat in zip(hGA, GA_patients):\n",
    "    plt.plot(data.T)\n",
    "    plt.title(pat)\n",
    "    plt.xlabel('Frame Number (not continuous)')\n",
    "    plt.ylabel('Displacement from reference')\n",
    "    plt.show()"
   ]
  },
  {
   "cell_type": "markdown",
   "metadata": {},
   "source": [
    "Same analysis for no GA subjects:"
   ]
  },
  {
   "cell_type": "code",
   "execution_count": null,
   "metadata": {},
   "outputs": [],
   "source": [
    "#save to file no GA info / point cloud centroid added to centroids \n",
    "'''for sub in no_GA:\n",
    "    print(sub)\n",
    "    pcl_centr = PClCentroid(sub)\n",
    "    print('PointCloud centroid: ', pcl_centr)\n",
    "    c = [pcl_centr] \n",
    "    np.savetxt(folder+'No GA_Excl/centroids '+sub+'.out', np.array(c))\n",
    "    mat_files = StartEndFrameNr([sub], Scan_Times, folder+'No GA_Excl/')\n",
    "    h = computeHistograms2(mat_files,c)\n",
    "    np.savetxt(folder+'No GA_Excl/histogramREF '+sub+'.out', np.array(h))'''"
   ]
  },
  {
   "cell_type": "code",
   "execution_count": null,
   "metadata": {},
   "outputs": [],
   "source": [
    "noGAcentr_PCl = []\n",
    "noGA_max_PCl = []\n",
    "noGA_avg_PCl = []\n",
    "noGA_median_PCl = []\n",
    "noGA_motionfree_PCl = []\n",
    "noGA_patients = []\n",
    "h_noGA = []\n",
    "for sub in no_GA:\n",
    "    print(sub)\n",
    "    c = np.loadtxt(folder+'No GA_Excl/centroids '+sub+'.out')\n",
    "    h = np.loadtxt(folder+'No GA_Excl/histogramREF '+sub+'.out')\n",
    "    h1 = []\n",
    "    npH = np.array(h)\n",
    "    exclude = False\n",
    "    count = 0            \n",
    "            \n",
    "    if count!=16:\n",
    "        h1 = h\n",
    "        print(count)\n",
    "        print(\"dont change\")\n",
    "    else:\n",
    "        print(\"change\")\n",
    "    h_noGA.append(h1)\n",
    "    npH1 = np.array(h1)     \n",
    " \n",
    "    ma = np.amax(npH1).tolist()\n",
    "    me = np.median(np.around(npH1, decimals=2)).tolist()\n",
    "    print(me)\n",
    "    avg = np.average(npH1).tolist()\n",
    "    mp = []\n",
    "    for his in [h1]:\n",
    "        mp.append(np.array(np.where( np.array(abs(his-his[0])) <2 )).shape[1]*100/len(his)) \n",
    "    \n",
    "    print(mp)\n",
    "    noGA_motionfree_PCl.append(mp)\n",
    "    noGAcentr_PCl.append(c)\n",
    "    noGA_max_PCl.append(ma)\n",
    "    noGA_avg_PCl.append(avg)\n",
    "    noGA_median_PCl.append(me)\n",
    "    noGA_patients.append(sub)"
   ]
  },
  {
   "cell_type": "code",
   "execution_count": null,
   "metadata": {},
   "outputs": [],
   "source": [
    "for data, pat in zip(h_noGA, noGA_patients):\n",
    "    plt.plot(data.T)\n",
    "    plt.title(pat)\n",
    "    plt.xlabel('Frame Number (not continuous)')\n",
    "    plt.ylabel('Displacement from reference')\n",
    "    plt.show()"
   ]
  },
  {
   "cell_type": "code",
   "execution_count": null,
   "metadata": {},
   "outputs": [],
   "source": [
    "print(np.amax(GA_avg_PCl), np.amax(GA_median_PCl), np.amax(GA_max_PCl), np.amin(GA_motionfree_PCl))\n",
    "print(np.median(GA_avg_PCl), np.median(GA_median_PCl), np.median(GA_max_PCl), np.median(GA_motionfree_PCl))"
   ]
  },
  {
   "cell_type": "markdown",
   "metadata": {},
   "source": [
    "## Compare metrics for point cloud centroid:"
   ]
  },
  {
   "cell_type": "code",
   "execution_count": null,
   "metadata": {},
   "outputs": [],
   "source": [
    "metrics_GA = [GA_avg_PCl, GA_median_PCl, GA_max_PCl, [x[0] for x in GA_motionfree_PCl]]\n",
    "metrics_noGA = [noGA_avg_PCl, noGA_median_PCl, noGA_max_PCl, [x[0] for x in noGA_motionfree_PCl]]\n",
    "titles = ['Mean Displacement', 'Median Displacement', 'Maximum Displacement', 'Motion-free Time']\n",
    "ylabels = ['Displacement [mm]', 'Displacement [mm]', 'Displacement [mm]', 'Motion-free time [%]']\n",
    "colors = ['tab:blue', 'tab:orange']\n",
    "\n",
    "plt.figure(figsize=(10,7))\n",
    "plt.rcParams.update({'font.size': 14})\n",
    "for i in range(0, 4):\n",
    "    plt.subplot(2,2,i+1)\n",
    "    plt.boxplot([metrics_noGA[i], metrics_GA[i]])\n",
    "    for k, j in zip(range(1, 3), [metrics_noGA[i], metrics_GA[i]]):\n",
    "        plt.plot(np.ones(len(j))*k, j, 'o', c=colors[k-1], ms=4)\n",
    "    plt.title(titles[i])\n",
    "    plt.xticks([1,2], ['No GA', 'GA'])\n",
    "    plt.ylabel(ylabels[i])\n",
    "plt.subplots_adjust(hspace=0.4, wspace=0.35)\n",
    "plt.savefig(folder+'Plots/Metrics_PClCentroid_Excl.png', dpi=200, bbox_inches='tight')\n",
    "plt.show()"
   ]
  },
  {
   "cell_type": "code",
   "execution_count": null,
   "metadata": {},
   "outputs": [],
   "source": [
    "print('No GA:')\n",
    "print('Med:', np.median(noGA_median_PCl), '+-', np.std(noGA_median_PCl))\n",
    "print('Mean:', np.median(noGA_avg_PCl), '+-', np.std(noGA_avg_PCl))\n",
    "print('Max:', np.median(noGA_max_PCl), '+-', np.std(noGA_max_PCl))\n",
    "print('Motionfree:', np.median(noGA_motionfree_PCl), '+-', np.std(noGA_motionfree_PCl))\n",
    "print('GA:')\n",
    "print('Med:', np.median(GA_median_PCl), '+-', np.std(GA_median_PCl))\n",
    "print('Mean:', np.median(GA_avg_PCl), '+-', np.std(GA_avg_PCl))\n",
    "print('Max:', np.median(GA_max_PCl), '+-', np.std(GA_max_PCl))\n",
    "print('Motionfree:', np.median(GA_motionfree_PCl), '+-', np.std(GA_motionfree_PCl))"
   ]
  },
  {
   "cell_type": "code",
   "execution_count": null,
   "metadata": {},
   "outputs": [],
   "source": [
    "np.savetxt(folder+'metrics_GA_Excl', np.array(metrics_GA))\n",
    "np.savetxt(folder+'metrics_noGA_Excl', np.array(metrics_noGA))"
   ]
  },
  {
   "cell_type": "markdown",
   "metadata": {},
   "source": [
    "Comparison of metrics for included and excluded scans above"
   ]
  },
  {
   "cell_type": "code",
   "execution_count": null,
   "metadata": {},
   "outputs": [],
   "source": []
  }
 ],
 "metadata": {
  "kernelspec": {
   "display_name": "Python 3 (ipykernel)",
   "language": "python",
   "name": "python3"
  },
  "language_info": {
   "codemirror_mode": {
    "name": "ipython",
    "version": 3
   },
   "file_extension": ".py",
   "mimetype": "text/x-python",
   "name": "python",
   "nbconvert_exporter": "python",
   "pygments_lexer": "ipython3",
   "version": "3.8.3"
  }
 },
 "nbformat": 4,
 "nbformat_minor": 4
}
